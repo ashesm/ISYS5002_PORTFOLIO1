{
  "nbformat": 4,
  "nbformat_minor": 0,
  "metadata": {
    "colab": {
      "name": "ELP.Q4.ipynb",
      "provenance": [],
      "collapsed_sections": [],
      "authorship_tag": "ABX9TyMREIeLTf0FWXPMO+ytqjqV",
      "include_colab_link": true
    },
    "kernelspec": {
      "name": "python3",
      "display_name": "Python 3"
    },
    "language_info": {
      "name": "python"
    }
  },
  "cells": [
    {
      "cell_type": "markdown",
      "metadata": {
        "id": "view-in-github",
        "colab_type": "text"
      },
      "source": [
        "<a href=\"https://colab.research.google.com/github/ashesm/ISYS5002_PORTFOLIO1/blob/main/ELP_Q4.ipynb\" target=\"_parent\"><img src=\"https://colab.research.google.com/assets/colab-badge.svg\" alt=\"Open In Colab\"/></a>"
      ]
    },
    {
      "cell_type": "code",
      "metadata": {
        "id": "jxH-g0_8jaFt"
      },
      "source": [
        "#read the saved sales.CSV file into a Pandas dataframe\n",
        "import pandas as pd\n",
        "df = pd.read_csv (\"sales.csv\")\n",
        "'''This function Read CSV data quickly into Pandas DataFrames, https://datatofish.com/import-csv-file-python-using-pandas/'''\n",
        "print (df)"
      ],
      "execution_count": null,
      "outputs": []
    },
    {
      "cell_type": "code",
      "metadata": {
        "colab": {
          "base_uri": "https://localhost:8080/",
          "height": 52
        },
        "id": "rnOHhYRHA3LG",
        "outputId": "c4733248-c870-4115-c2eb-cc9697ce324d"
      },
      "source": [
        "df.head()\n",
        "'''This function returns the first n rows for the object based\\non position. It is useful for quickly testing if your object\\nhas the right type of data in it'''"
      ],
      "execution_count": null,
      "outputs": [
        {
          "output_type": "execute_result",
          "data": {
            "application/vnd.google.colaboratory.intrinsic+json": {
              "type": "string"
            },
            "text/plain": [
              "'This function returns the first n rows for the object based\\non position. It is useful for quickly testing if your object\\nhas the right type of data in it'"
            ]
          },
          "metadata": {},
          "execution_count": 123
        }
      ]
    },
    {
      "cell_type": "code",
      "metadata": {
        "id": "cxsHaJV-1leG",
        "colab": {
          "base_uri": "https://localhost:8080/",
          "height": 52
        },
        "outputId": "eaa07570-adeb-4f13-bd37-b54d7a4d9adc"
      },
      "source": [
        "df.tail()\n",
        "'''This function returns last n rows from the object based on\n",
        "position. It is useful for quickly verifying data, for example,\n",
        "after sorting or appending rows.'''"
      ],
      "execution_count": null,
      "outputs": [
        {
          "output_type": "execute_result",
          "data": {
            "application/vnd.google.colaboratory.intrinsic+json": {
              "type": "string"
            },
            "text/plain": [
              "'This function returns last n rows from the object based on\\nposition. It is useful for quickly verifying data, for example,\\nafter sorting or appending rows.'"
            ]
          },
          "metadata": {},
          "execution_count": 124
        }
      ]
    },
    {
      "cell_type": "code",
      "metadata": {
        "id": "dhi_PKX5jG1n"
      },
      "source": [
        "#Create a new dataframe from existing dataframe\n",
        "#https://www.codegrepper.com/code-examples/python/create+new+dataframe+with+columns+from+another+dataframe+pandas\n",
        "df1 = df[['Region', 'Total Profit']].copy()\n",
        "print(df1)"
      ],
      "execution_count": null,
      "outputs": []
    },
    {
      "cell_type": "code",
      "metadata": {
        "id": "dZ0OiE1kHrEM"
      },
      "source": [
        "#Filtering \"Australia and Oceania\" from Region\n",
        "#https://datatofish.com/select-rows-pandas-dataframe/\n",
        "region= df1.loc[df1['Region'] == 'Australia and Oceania']\n",
        "print(region)"
      ],
      "execution_count": null,
      "outputs": []
    },
    {
      "cell_type": "code",
      "metadata": {
        "id": "Qg0ZHXTvakaI"
      },
      "source": [
        "# Generate descriptive statistics\n",
        "region.describe()"
      ],
      "execution_count": null,
      "outputs": []
    },
    {
      "cell_type": "code",
      "metadata": {
        "id": "JMu3vaq7cZ46"
      },
      "source": [
        "#Convert the Total Profit type into Float\n",
        "#https://stackoverflow.com/questions/66493992/how-to-convert-object-to-float-in-pandas\n",
        "df1['Total Profit']=df1['Total Profit'].astype(float)"
      ],
      "execution_count": null,
      "outputs": []
    },
    {
      "cell_type": "code",
      "metadata": {
        "id": "2g69aSTcdTfk",
        "colab": {
          "base_uri": "https://localhost:8080/",
          "height": 293
        },
        "outputId": "671adb1e-e59f-49bb-943e-7141cb0f1f09"
      },
      "source": [
        "region.plot()"
      ],
      "execution_count": null,
      "outputs": [
        {
          "output_type": "execute_result",
          "data": {
            "text/plain": [
              "<matplotlib.axes._subplots.AxesSubplot at 0x7fbd6deb2f90>"
            ]
          },
          "metadata": {},
          "execution_count": 133
        },
        {
          "output_type": "display_data",
          "data": {
            "image/png": "[encoded data removed]",
            "text/plain": [
              "<Figure size 432x288 with 1 Axes>"
            ]
          },
          "metadata": {
            "needs_background": "light"
          }
        }
      ]
    }
  ]
}