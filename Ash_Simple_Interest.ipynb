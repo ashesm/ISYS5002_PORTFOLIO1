{
  "nbformat": 4,
  "nbformat_minor": 5,
  "metadata": {
    "kernelspec": {
      "display_name": "Python 3 (ipykernel)",
      "language": "python",
      "name": "python3"
    },
    "language_info": {
      "codemirror_mode": {
        "name": "ipython",
        "version": 3
      },
      "file_extension": ".py",
      "mimetype": "text/x-python",
      "name": "python",
      "nbconvert_exporter": "python",
      "pygments_lexer": "ipython3",
      "version": "3.9.6"
    },
    "colab": {
      "name": "Ash. Simple_Interest.ipynb",
      "provenance": [],
      "collapsed_sections": [],
      "include_colab_link": true
    }
  },
  "cells": [
    {
      "cell_type": "markdown",
      "metadata": {
        "id": "view-in-github",
        "colab_type": "text"
      },
      "source": [
        "<a href=\"https://colab.research.google.com/github/ashesm/ISYS5002_PORTFOLIO1/blob/main/Ash_Simple_Interest.ipynb\" target=\"_parent\"><img src=\"https://colab.research.google.com/assets/colab-badge.svg\" alt=\"Open In Colab\"/></a>"
      ]
    },
    {
      "cell_type": "markdown",
      "metadata": {
        "id": "b7a42e71-7361-4878-a06f-0fc857db581f"
      },
      "source": [
        "# Simple Interest Calculator\n",
        "\n",
        "The process of problem solving we will use can be broken down into 5 key steps:\n",
        "1. State the problem clearly\n",
        "2. Describe the input and output information\n",
        "3. Work the problem by hand\n",
        "4. Develop an algorithm (and convert to python) \n",
        "5. Test solution with a variety of data\n",
        "\n",
        "\n",
        "### 1. State Problem Clearly\n",
        "\n",
        "Simple interest in a bank is given by the formula:\n",
        "\n",
        "    Simple Interest = (Ammount Borrowed  x  Interest Rate * years) / 100\n",
        "    \n",
        "\n",
        "### 2. Describe Inputs/Outputs\n",
        "\n",
        "\n",
        "| input | processing | output|\n",
        "|-------|------------|-------|\n",
        "| Amount Borowed |    | Simple Interest |\n",
        "| Interest Rate | | |\n",
        "| Loan Period | | | \n",
        "\n",
        "### 3. Work the problme by hand\n",
        "\n",
        "Borrowed $10,000\n",
        "Interest Rate of 2%\n",
        "Lenghtof loan is 5 years\n",
        "\n",
        "\n",
        "Simple interest \n",
        "=  (10,000 * 2 * 5) / 100\n",
        "= 1,000\n",
        "\n",
        "### 4. Develop and algorithm\n",
        "\n",
        "Here is the pseudocode\n",
        "\n",
        "        Get the amount borrowed\n",
        "        Get the interest rate\n",
        "        Get the loan period\n",
        "        let simple interest = (amount borrowed * interest rate * loan period) / 100\n",
        "        print The total interest on the loan is: simple interest\n"
      ],
      "id": "b7a42e71-7361-4878-a06f-0fc857db581f"
    },
    {
      "cell_type": "code",
      "metadata": {
        "colab": {
          "base_uri": "https://localhost:8080/"
        },
        "id": "f9a6e70b-c83a-4513-90d7-3cbcfbf9cde7",
        "outputId": "321138b0-36cb-439b-e229-1de0dc78c944"
      },
      "source": [
        "# Get the amount borrowed\n",
        "amount_borrowed = 10000\n",
        "\n",
        "# Get the interest rate\n",
        "interest_rate = 2.0\n",
        "\n",
        "# Get the loan period\n",
        "loan_period = 5\n",
        "\n",
        "# let simple interest = (amount borrowed * interest rate * loan period)\n",
        "simple_interest = (amount_borrowed * interest_rate * loan_period)/100\n",
        "\n",
        "# print The total interest on the loan is: simple interest\n",
        "print('The total interest on the loan is: ', simple_interest)"
      ],
      "id": "f9a6e70b-c83a-4513-90d7-3cbcfbf9cde7",
      "execution_count": null,
      "outputs": [
        {
          "output_type": "stream",
          "name": "stdout",
          "text": [
            "The total interest on the loan is:  1000.0\n"
          ]
        }
      ]
    },
    {
      "cell_type": "markdown",
      "metadata": {
        "id": "26e44634-3041-4ffb-acd9-fa11eb36f2df"
      },
      "source": [
        "### 5. Test with a variety of data.\n",
        "\n",
        "Rather than type in different values each time, perhaps it easier to be prompted for the infromation."
      ],
      "id": "26e44634-3041-4ffb-acd9-fa11eb36f2df"
    },
    {
      "cell_type": "code",
      "metadata": {
        "id": "4299ad3d-5672-42fa-bf17-fbf7360e66c5",
        "colab": {
          "base_uri": "https://localhost:8080/"
        },
        "outputId": "a8dc7ef2-8b17-4176-f11f-3af1a65a5469"
      },
      "source": [
        "# Get the amount borrowed\n",
        "amount_borrowed = int(input(\"Please enter the amount borrowed \"))\n",
        "\n",
        "# Get the interest rate\n",
        "interest_rate = float(input(\"Please enter the interest rate \"))\n",
        "\n",
        "# Get the loan period\n",
        "loan_period = float(input(\"Please enter the load period \"))\n",
        "\n",
        "# let simple interest = (amount borrowed * interest rate * loan period)\n",
        "simple_interest = (amount_borrowed * interest_rate * loan_period)/100\n",
        "\n",
        "# print The total interest on the loan is: simple interest\n",
        "print('The total interest on the loan is: ', simple_interest)"
      ],
      "id": "4299ad3d-5672-42fa-bf17-fbf7360e66c5",
      "execution_count": null,
      "outputs": [
        {
          "output_type": "stream",
          "name": "stdout",
          "text": [
            "Please enter the amount borrowed 67\n",
            "Please enter the interest rate .9\n",
            "Please enter the load period 8\n",
            "The total interest on the loan is:  4.824000000000001\n"
          ]
        }
      ]
    },
    {
      "cell_type": "code",
      "metadata": {
        "id": "d6ed57b1-3da8-4768-8864-a2fd2a5e18f0"
      },
      "source": [
        ""
      ],
      "id": "d6ed57b1-3da8-4768-8864-a2fd2a5e18f0",
      "execution_count": null,
      "outputs": []
    }
  ]
}