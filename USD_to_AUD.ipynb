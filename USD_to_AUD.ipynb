{
  "nbformat": 4,
  "nbformat_minor": 0,
  "metadata": {
    "colab": {
      "name": "USD to AUD.ipynb",
      "provenance": [],
      "collapsed_sections": [],
      "authorship_tag": "ABX9TyOiKwourNx7PYvl4/+T4sq9",
      "include_colab_link": true
    },
    "kernelspec": {
      "name": "python3",
      "display_name": "Python 3"
    },
    "language_info": {
      "name": "python"
    }
  },
  "cells": [
    {
      "cell_type": "markdown",
      "metadata": {
        "id": "view-in-github",
        "colab_type": "text"
      },
      "source": [
        "<a href=\"https://colab.research.google.com/github/ashesm/ISYS5002_PORTFOLIO1/blob/main/USD_to_AUD.ipynb\" target=\"_parent\"><img src=\"https://colab.research.google.com/assets/colab-badge.svg\" alt=\"Open In Colab\"/></a>"
      ]
    },
    {
      "cell_type": "markdown",
      "metadata": {
        "id": "cpfUX188OpsA"
      },
      "source": [
        "# USD To AUD Calculator\n",
        "\n",
        "The process of problem solving we will use can be broken down into 5 key steps:\n",
        "1. State the problem clearly\n",
        "2. Describe the input and output information\n",
        "3. Work the problem by hand\n",
        "4. Develop an algorithm (and convert to python) \n",
        "5. Test solution with a variety of data\n",
        "\n",
        "### 1. State Problem Clearly\n",
        "\n",
        "\n",
        "   The current rate of exchange for USD to AUD is: 1 USD = 1.38 AUD.\n",
        "\n",
        "\n",
        "   ### 2. Describe Inputs/Outputs\n",
        "\n",
        "\n",
        "| input | processing | output|\n",
        "|-------|------------|-------|\n",
        "\n",
        "\n",
        "Input is the Currency value in USD \n",
        "\n",
        " Rate = 1.38\n",
        "\n",
        " Processing : USD = 1.36 * AUD\n",
        "\n",
        " Output is Currency in AUS\n",
        "\n",
        " \n",
        "### 3. Work the problem by hand\n",
        "\n",
        "USD = 1\n",
        "\n",
        "Rate of 1.38\n",
        "\n",
        "AUD = 1 / 1.38  = 0.724\n",
        "\n",
        "### 4. Develop and algorithm\n",
        "\n",
        "        Get the Currency in USD\n",
        "        Get the Current Rate\n",
        "        AUD = USD / 1.38\n",
        "        print The AUD amount\n",
        "\n",
        "   \n",
        " \n",
        "\n"
      ]
    },
    {
      "cell_type": "code",
      "metadata": {
        "colab": {
          "base_uri": "https://localhost:8080/"
        },
        "id": "BfRpBPbTSksI",
        "outputId": "5a49bdad-6741-429e-8a1b-2c7bb2c0b7f4"
      },
      "source": [
        "# Get the Currency in USD\n",
        "USD_currency = 1\n",
        "\n",
        "# Get the Current Rate\n",
        "current_rate = 1.38\n",
        "\n",
        "# let AUD_currency = USD_currency / current_rate\n",
        "AUD_currency = USD_currency / current_rate\n",
        "\n",
        "# print The AUD value: AUD currency\n",
        "print(' The AUD value is:', AUD_currency)"
      ],
      "execution_count": null,
      "outputs": [
        {
          "output_type": "stream",
          "name": "stdout",
          "text": [
            " The AUD value is: 0.7246376811594204\n"
          ]
        }
      ]
    },
    {
      "cell_type": "code",
      "metadata": {
        "colab": {
          "base_uri": "https://localhost:8080/"
        },
        "id": "NYmwp_BzUmyz",
        "outputId": "4814d2ce-8fa1-46d6-9d5c-e88a19e21d35"
      },
      "source": [
        "# Get the Currency in USD\n",
        "USD_currency = int(input(\"Please enter the USD currency \"))\n",
        "\n",
        "# Get the Current Rate\n",
        "current_rate = float(input(\"Please enter the current rate \"))\n",
        "\n",
        "# let AUD_currency = USD_currency / current_rate\n",
        "AUD_currency = USD_currency / current_rate\n",
        "\n",
        "# print The AUD value: AUD currency\n",
        "print('The AUD value is:', AUD_currency)"
      ],
      "execution_count": null,
      "outputs": [
        {
          "output_type": "stream",
          "name": "stdout",
          "text": [
            "Please enter the USD currency 1\n",
            "Please enter the current rate 1.38\n",
            "The AUD value is: 0.7246376811594204\n"
          ]
        }
      ]
    }
  ]
}