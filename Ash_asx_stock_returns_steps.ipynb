{
  "nbformat": 4,
  "nbformat_minor": 0,
  "metadata": {
    "colab": {
      "name": "Ash.asx_stock_returns_steps.ipynb",
      "provenance": [],
      "include_colab_link": true
    },
    "kernelspec": {
      "name": "python3",
      "display_name": "Python 3"
    },
    "language_info": {
      "name": "python"
    }
  },
  "cells": [
    {
      "cell_type": "markdown",
      "metadata": {
        "id": "view-in-github",
        "colab_type": "text"
      },
      "source": [
        "<a href=\"https://colab.research.google.com/github/ashesm/ISYS5002_PORTFOLIO1/blob/main/Ash_asx_stock_returns_steps.ipynb\" target=\"_parent\"><img src=\"https://colab.research.google.com/assets/colab-badge.svg\" alt=\"Open In Colab\"/></a>"
      ]
    },
    {
      "cell_type": "markdown",
      "metadata": {
        "id": "HNZIlM6oj2Aj"
      },
      "source": [
        "In this notebook we will:\n",
        "\n",
        "* Download prices\n",
        "* Calculate Returns\n",
        "* Calculate mean and standard deviation of returns\n",
        "\n",
        "Lets load the modules first.\n"
      ]
    },
    {
      "cell_type": "code",
      "metadata": {
        "id": "65AKEsMMj7l2"
      },
      "source": [
        "import pandas as pd\n",
        "import matplotlib.pyplot as plt\n",
        "from pandas_datareader import data as pdr"
      ],
      "execution_count": null,
      "outputs": []
    },
    {
      "cell_type": "markdown",
      "metadata": {
        "id": "NECkTYl1rVYg"
      },
      "source": [
        "Work around as Yahoo FInance made a change causing error with Pandas Datareader \n"
      ]
    },
    {
      "cell_type": "code",
      "metadata": {
        "id": "eQnf6ciwrUBZ"
      },
      "source": [
        "!pip install yfinance\n",
        "import yfinance as yfin\n",
        "yfin.pdr_override()"
      ],
      "execution_count": null,
      "outputs": []
    },
    {
      "cell_type": "code",
      "metadata": {
        "id": "Jz1s8pkljbwk"
      },
      "source": [
        "help(pdr.get_data_yahoo)"
      ],
      "execution_count": null,
      "outputs": []
    },
    {
      "cell_type": "code",
      "metadata": {
        "id": "ouINrWTejgKr"
      },
      "source": [
        ""
      ],
      "execution_count": null,
      "outputs": []
    },
    {
      "cell_type": "markdown",
      "metadata": {
        "id": "NoqWddgEnsgn"
      },
      "source": [
        "## Step 1: Specify date range for analysis \n",
        "\n",
        "Here we begin by creating start and end dates using pythons datetime module. "
      ]
    },
    {
      "cell_type": "code",
      "metadata": {
        "id": "RPfSzWb7gZDE"
      },
      "source": [
        "start = \"2009-01-01\"\n",
        "end = \"2021-09-15\""
      ],
      "execution_count": null,
      "outputs": []
    },
    {
      "cell_type": "markdown",
      "metadata": {
        "id": "13o_1wssoBjF"
      },
      "source": [
        "## Step 2: Select the stocks/tickers you would like to analyse\n",
        "\n",
        "For Australian stocks, yahoo tickers require '.AX' to be specified at the end of the ticker symbol.  For other tickers use the search bar in yahoo finance."
      ]
    },
    {
      "cell_type": "code",
      "metadata": {
        "id": "Y6ZrCfWNgeoZ"
      },
      "source": [
        "tickers = ['ANZ.AX' , 'NAB.AX' , 'WBC.AX' , 'CBA.AX' ]"
      ],
      "execution_count": null,
      "outputs": []
    },
    {
      "cell_type": "code",
      "metadata": {
        "id": "1LmCo9x83eRz"
      },
      "source": [
        ""
      ],
      "execution_count": null,
      "outputs": []
    },
    {
      "cell_type": "markdown",
      "metadata": {
        "id": "xSez_wk4oZZP"
      },
      "source": [
        "# Step 3: call the Pandas_Datareader DataReader module"
      ]
    },
    {
      "cell_type": "code",
      "metadata": {
        "id": "DiHcvM3_lWkw",
        "colab": {
          "base_uri": "https://localhost:8080/"
        },
        "outputId": "7ce0aced-21aa-44f0-d67f-055c091918fe"
      },
      "source": [
        "df = pdr.get_data_yahoo(tickers, start, end)"
      ],
      "execution_count": null,
      "outputs": [
        {
          "output_type": "stream",
          "name": "stdout",
          "text": [
            "[*********************100%***********************]  4 of 4 completed\n"
          ]
        }
      ]
    },
    {
      "cell_type": "code",
      "metadata": {
        "colab": {
          "base_uri": "https://localhost:8080/"
        },
        "id": "HodJr9LGlriP",
        "outputId": "6eb17a33-7c2f-443e-c5e9-b0580682d37e"
      },
      "source": [
        "print(df.head())"
      ],
      "execution_count": null,
      "outputs": [
        {
          "output_type": "stream",
          "name": "stdout",
          "text": [
            "           Adj Close                       ...     Volume                      \n",
            "              ANZ.AX     CBA.AX    NAB.AX  ...     CBA.AX     NAB.AX     WBC.AX\n",
            "Date                                       ...                                 \n",
            "2009-01-02  7.642381  14.494561  8.887321  ...  2269780.0  2572210.0  3655805.0\n",
            "2009-01-05  7.587002  14.196732  8.813263  ...  2908531.0  2822855.0  5161118.0\n",
            "2009-01-06  7.753141  14.628585  9.035444  ...  2564247.0  3803343.0  4922125.0\n",
            "2009-01-07  7.727966  14.370469  9.100794  ...  3413898.0  4676568.0  5779916.0\n",
            "2009-01-08  7.662520  14.176876  9.087723  ...  3969963.0  2949396.0  4588396.0\n",
            "\n",
            "[5 rows x 24 columns]\n"
          ]
        }
      ]
    },
    {
      "cell_type": "code",
      "metadata": {
        "colab": {
          "base_uri": "https://localhost:8080/",
          "height": 289
        },
        "id": "I48IfzZa4mNb",
        "outputId": "466dbb87-3af3-4712-cf17-05e4c177506a"
      },
      "source": [
        "df.head()"
      ],
      "execution_count": null,
      "outputs": [
        {
          "output_type": "execute_result",
          "data": {
            "text/html": [
              "<div>\n",
              "<style scoped>\n",
              "    .dataframe tbody tr th:only-of-type {\n",
              "        vertical-align: middle;\n",
              "    }\n",
              "\n",
              "    .dataframe tbody tr th {\n",
              "        vertical-align: top;\n",
              "    }\n",
              "\n",
              "    .dataframe thead tr th {\n",
              "        text-align: left;\n",
              "    }\n",
              "\n",
              "    .dataframe thead tr:last-of-type th {\n",
              "        text-align: right;\n",
              "    }\n",
              "</style>\n",
              "<table border=\"1\" class=\"dataframe\">\n",
              "  <thead>\n",
              "    <tr>\n",
              "      <th></th>\n",
              "      <th colspan=\"4\" halign=\"left\">Adj Close</th>\n",
              "      <th colspan=\"4\" halign=\"left\">Close</th>\n",
              "      <th colspan=\"4\" halign=\"left\">High</th>\n",
              "      <th colspan=\"4\" halign=\"left\">Low</th>\n",
              "      <th colspan=\"4\" halign=\"left\">Open</th>\n",
              "      <th colspan=\"4\" halign=\"left\">Volume</th>\n",
              "    </tr>\n",
              "    <tr>\n",
              "      <th></th>\n",
              "      <th>ANZ.AX</th>\n",
              "      <th>CBA.AX</th>\n",
              "      <th>NAB.AX</th>\n",
              "      <th>WBC.AX</th>\n",
              "      <th>ANZ.AX</th>\n",
              "      <th>CBA.AX</th>\n",
              "      <th>NAB.AX</th>\n",
              "      <th>WBC.AX</th>\n",
              "      <th>ANZ.AX</th>\n",
              "      <th>CBA.AX</th>\n",
              "      <th>NAB.AX</th>\n",
              "      <th>WBC.AX</th>\n",
              "      <th>ANZ.AX</th>\n",
              "      <th>CBA.AX</th>\n",
              "      <th>NAB.AX</th>\n",
              "      <th>WBC.AX</th>\n",
              "      <th>ANZ.AX</th>\n",
              "      <th>CBA.AX</th>\n",
              "      <th>NAB.AX</th>\n",
              "      <th>WBC.AX</th>\n",
              "      <th>ANZ.AX</th>\n",
              "      <th>CBA.AX</th>\n",
              "      <th>NAB.AX</th>\n",
              "      <th>WBC.AX</th>\n",
              "    </tr>\n",
              "    <tr>\n",
              "      <th>Date</th>\n",
              "      <th></th>\n",
              "      <th></th>\n",
              "      <th></th>\n",
              "      <th></th>\n",
              "      <th></th>\n",
              "      <th></th>\n",
              "      <th></th>\n",
              "      <th></th>\n",
              "      <th></th>\n",
              "      <th></th>\n",
              "      <th></th>\n",
              "      <th></th>\n",
              "      <th></th>\n",
              "      <th></th>\n",
              "      <th></th>\n",
              "      <th></th>\n",
              "      <th></th>\n",
              "      <th></th>\n",
              "      <th></th>\n",
              "      <th></th>\n",
              "      <th></th>\n",
              "      <th></th>\n",
              "      <th></th>\n",
              "      <th></th>\n",
              "    </tr>\n",
              "  </thead>\n",
              "  <tbody>\n",
              "    <tr>\n",
              "      <th>2009-01-02</th>\n",
              "      <td>7.642381</td>\n",
              "      <td>14.494561</td>\n",
              "      <td>8.887321</td>\n",
              "      <td>8.648785</td>\n",
              "      <td>15.18</td>\n",
              "      <td>29.042646</td>\n",
              "      <td>19.406162</td>\n",
              "      <td>16.646669</td>\n",
              "      <td>15.48</td>\n",
              "      <td>29.311192</td>\n",
              "      <td>19.976933</td>\n",
              "      <td>17.024099</td>\n",
              "      <td>15.00</td>\n",
              "      <td>28.803940</td>\n",
              "      <td>19.244446</td>\n",
              "      <td>16.497683</td>\n",
              "      <td>15.29</td>\n",
              "      <td>28.823832</td>\n",
              "      <td>19.929367</td>\n",
              "      <td>16.775789</td>\n",
              "      <td>2413777</td>\n",
              "      <td>2269780.0</td>\n",
              "      <td>2572210.0</td>\n",
              "      <td>3655805.0</td>\n",
              "    </tr>\n",
              "    <tr>\n",
              "      <th>2009-01-05</th>\n",
              "      <td>7.587002</td>\n",
              "      <td>14.196732</td>\n",
              "      <td>8.813263</td>\n",
              "      <td>8.586861</td>\n",
              "      <td>15.07</td>\n",
              "      <td>28.445881</td>\n",
              "      <td>19.244446</td>\n",
              "      <td>16.527479</td>\n",
              "      <td>15.41</td>\n",
              "      <td>29.360922</td>\n",
              "      <td>19.720085</td>\n",
              "      <td>16.944639</td>\n",
              "      <td>14.88</td>\n",
              "      <td>28.356365</td>\n",
              "      <td>19.082727</td>\n",
              "      <td>16.388428</td>\n",
              "      <td>15.40</td>\n",
              "      <td>29.341030</td>\n",
              "      <td>19.691547</td>\n",
              "      <td>16.805588</td>\n",
              "      <td>2853413</td>\n",
              "      <td>2908531.0</td>\n",
              "      <td>2822855.0</td>\n",
              "      <td>5161118.0</td>\n",
              "    </tr>\n",
              "    <tr>\n",
              "      <th>2009-01-06</th>\n",
              "      <td>7.753141</td>\n",
              "      <td>14.628585</td>\n",
              "      <td>9.035444</td>\n",
              "      <td>8.788116</td>\n",
              "      <td>15.40</td>\n",
              "      <td>29.311192</td>\n",
              "      <td>19.729599</td>\n",
              "      <td>16.914843</td>\n",
              "      <td>15.41</td>\n",
              "      <td>29.311192</td>\n",
              "      <td>19.862778</td>\n",
              "      <td>16.914843</td>\n",
              "      <td>15.10</td>\n",
              "      <td>28.754210</td>\n",
              "      <td>19.482265</td>\n",
              "      <td>16.626804</td>\n",
              "      <td>15.30</td>\n",
              "      <td>28.992916</td>\n",
              "      <td>19.624958</td>\n",
              "      <td>16.845318</td>\n",
              "      <td>3128244</td>\n",
              "      <td>2564247.0</td>\n",
              "      <td>3803343.0</td>\n",
              "      <td>4922125.0</td>\n",
              "    </tr>\n",
              "    <tr>\n",
              "      <th>2009-01-07</th>\n",
              "      <td>7.727966</td>\n",
              "      <td>14.370469</td>\n",
              "      <td>9.100794</td>\n",
              "      <td>8.705550</td>\n",
              "      <td>15.35</td>\n",
              "      <td>28.793995</td>\n",
              "      <td>19.872292</td>\n",
              "      <td>16.755924</td>\n",
              "      <td>15.71</td>\n",
              "      <td>29.400705</td>\n",
              "      <td>20.148163</td>\n",
              "      <td>17.073761</td>\n",
              "      <td>15.26</td>\n",
              "      <td>28.754210</td>\n",
              "      <td>19.548855</td>\n",
              "      <td>16.706263</td>\n",
              "      <td>15.45</td>\n",
              "      <td>29.341030</td>\n",
              "      <td>19.853266</td>\n",
              "      <td>16.914843</td>\n",
              "      <td>4198861</td>\n",
              "      <td>3413898.0</td>\n",
              "      <td>4676568.0</td>\n",
              "      <td>5779916.0</td>\n",
              "    </tr>\n",
              "    <tr>\n",
              "      <th>2009-01-08</th>\n",
              "      <td>7.662520</td>\n",
              "      <td>14.176876</td>\n",
              "      <td>9.087723</td>\n",
              "      <td>8.550738</td>\n",
              "      <td>15.22</td>\n",
              "      <td>28.406096</td>\n",
              "      <td>19.843754</td>\n",
              "      <td>16.457954</td>\n",
              "      <td>15.30</td>\n",
              "      <td>28.694532</td>\n",
              "      <td>19.843754</td>\n",
              "      <td>16.597008</td>\n",
              "      <td>15.00</td>\n",
              "      <td>27.888897</td>\n",
              "      <td>19.501291</td>\n",
              "      <td>16.318899</td>\n",
              "      <td>15.25</td>\n",
              "      <td>28.694532</td>\n",
              "      <td>19.501291</td>\n",
              "      <td>16.507616</td>\n",
              "      <td>3169821</td>\n",
              "      <td>3969963.0</td>\n",
              "      <td>2949396.0</td>\n",
              "      <td>4588396.0</td>\n",
              "    </tr>\n",
              "  </tbody>\n",
              "</table>\n",
              "</div>"
            ],
            "text/plain": [
              "           Adj Close                       ...     Volume                      \n",
              "              ANZ.AX     CBA.AX    NAB.AX  ...     CBA.AX     NAB.AX     WBC.AX\n",
              "Date                                       ...                                 \n",
              "2009-01-02  7.642381  14.494561  8.887321  ...  2269780.0  2572210.0  3655805.0\n",
              "2009-01-05  7.587002  14.196732  8.813263  ...  2908531.0  2822855.0  5161118.0\n",
              "2009-01-06  7.753141  14.628585  9.035444  ...  2564247.0  3803343.0  4922125.0\n",
              "2009-01-07  7.727966  14.370469  9.100794  ...  3413898.0  4676568.0  5779916.0\n",
              "2009-01-08  7.662520  14.176876  9.087723  ...  3969963.0  2949396.0  4588396.0\n",
              "\n",
              "[5 rows x 24 columns]"
            ]
          },
          "metadata": {},
          "execution_count": 53
        }
      ]
    },
    {
      "cell_type": "markdown",
      "metadata": {
        "id": "7-Y707wBodqa"
      },
      "source": [
        "## Step 4: Understanding the pandas dataframe structure\n",
        "\n",
        "A good way to quickly understand how a pandas dataframe is structured is to look at the index and the columns."
      ]
    },
    {
      "cell_type": "code",
      "metadata": {
        "id": "uu_BWD_llZ9q",
        "colab": {
          "base_uri": "https://localhost:8080/"
        },
        "outputId": "db3cc721-a556-41a3-9b80-6e094b2b1615"
      },
      "source": [
        "df.index"
      ],
      "execution_count": null,
      "outputs": [
        {
          "output_type": "execute_result",
          "data": {
            "text/plain": [
              "DatetimeIndex(['2009-01-02', '2009-01-05', '2009-01-06', '2009-01-07',\n",
              "               '2009-01-08', '2009-01-09', '2009-01-12', '2009-01-13',\n",
              "               '2009-01-14', '2009-01-15',\n",
              "               ...\n",
              "               '2021-09-02', '2021-09-03', '2021-09-06', '2021-09-07',\n",
              "               '2021-09-08', '2021-09-09', '2021-09-10', '2021-09-13',\n",
              "               '2021-09-14', '2021-09-15'],\n",
              "              dtype='datetime64[ns]', name='Date', length=3214, freq=None)"
            ]
          },
          "metadata": {},
          "execution_count": 54
        }
      ]
    },
    {
      "cell_type": "code",
      "metadata": {
        "colab": {
          "base_uri": "https://localhost:8080/"
        },
        "id": "nM3lJAGl45Os",
        "outputId": "50dee4bf-781b-4484-a572-eb5a9959bbb1"
      },
      "source": [
        "df.columns"
      ],
      "execution_count": null,
      "outputs": [
        {
          "output_type": "execute_result",
          "data": {
            "text/plain": [
              "MultiIndex([('Adj Close', 'ANZ.AX'),\n",
              "            ('Adj Close', 'CBA.AX'),\n",
              "            ('Adj Close', 'NAB.AX'),\n",
              "            ('Adj Close', 'WBC.AX'),\n",
              "            (    'Close', 'ANZ.AX'),\n",
              "            (    'Close', 'CBA.AX'),\n",
              "            (    'Close', 'NAB.AX'),\n",
              "            (    'Close', 'WBC.AX'),\n",
              "            (     'High', 'ANZ.AX'),\n",
              "            (     'High', 'CBA.AX'),\n",
              "            (     'High', 'NAB.AX'),\n",
              "            (     'High', 'WBC.AX'),\n",
              "            (      'Low', 'ANZ.AX'),\n",
              "            (      'Low', 'CBA.AX'),\n",
              "            (      'Low', 'NAB.AX'),\n",
              "            (      'Low', 'WBC.AX'),\n",
              "            (     'Open', 'ANZ.AX'),\n",
              "            (     'Open', 'CBA.AX'),\n",
              "            (     'Open', 'NAB.AX'),\n",
              "            (     'Open', 'WBC.AX'),\n",
              "            (   'Volume', 'ANZ.AX'),\n",
              "            (   'Volume', 'CBA.AX'),\n",
              "            (   'Volume', 'NAB.AX'),\n",
              "            (   'Volume', 'WBC.AX')],\n",
              "           )"
            ]
          },
          "metadata": {},
          "execution_count": 55
        }
      ]
    },
    {
      "cell_type": "code",
      "metadata": {
        "colab": {
          "base_uri": "https://localhost:8080/"
        },
        "id": "1iyNoLUimiBY",
        "outputId": "a19f666d-e427-4e8a-ec2f-34181a96167f"
      },
      "source": [
        "df.index, df.columns, df.head()"
      ],
      "execution_count": null,
      "outputs": [
        {
          "output_type": "execute_result",
          "data": {
            "text/plain": [
              "(DatetimeIndex(['2009-01-02', '2009-01-05', '2009-01-06', '2009-01-07',\n",
              "                '2009-01-08', '2009-01-09', '2009-01-12', '2009-01-13',\n",
              "                '2009-01-14', '2009-01-15',\n",
              "                ...\n",
              "                '2021-09-02', '2021-09-03', '2021-09-06', '2021-09-07',\n",
              "                '2021-09-08', '2021-09-09', '2021-09-10', '2021-09-13',\n",
              "                '2021-09-14', '2021-09-15'],\n",
              "               dtype='datetime64[ns]', name='Date', length=3214, freq=None),\n",
              " MultiIndex([('Adj Close', 'ANZ.AX'),\n",
              "             ('Adj Close', 'CBA.AX'),\n",
              "             ('Adj Close', 'NAB.AX'),\n",
              "             ('Adj Close', 'WBC.AX'),\n",
              "             (    'Close', 'ANZ.AX'),\n",
              "             (    'Close', 'CBA.AX'),\n",
              "             (    'Close', 'NAB.AX'),\n",
              "             (    'Close', 'WBC.AX'),\n",
              "             (     'High', 'ANZ.AX'),\n",
              "             (     'High', 'CBA.AX'),\n",
              "             (     'High', 'NAB.AX'),\n",
              "             (     'High', 'WBC.AX'),\n",
              "             (      'Low', 'ANZ.AX'),\n",
              "             (      'Low', 'CBA.AX'),\n",
              "             (      'Low', 'NAB.AX'),\n",
              "             (      'Low', 'WBC.AX'),\n",
              "             (     'Open', 'ANZ.AX'),\n",
              "             (     'Open', 'CBA.AX'),\n",
              "             (     'Open', 'NAB.AX'),\n",
              "             (     'Open', 'WBC.AX'),\n",
              "             (   'Volume', 'ANZ.AX'),\n",
              "             (   'Volume', 'CBA.AX'),\n",
              "             (   'Volume', 'NAB.AX'),\n",
              "             (   'Volume', 'WBC.AX')],\n",
              "            ),\n",
              "            Adj Close                       ...     Volume                      \n",
              "               ANZ.AX     CBA.AX    NAB.AX  ...     CBA.AX     NAB.AX     WBC.AX\n",
              " Date                                       ...                                 \n",
              " 2009-01-02  7.642381  14.494561  8.887321  ...  2269780.0  2572210.0  3655805.0\n",
              " 2009-01-05  7.587002  14.196732  8.813263  ...  2908531.0  2822855.0  5161118.0\n",
              " 2009-01-06  7.753141  14.628585  9.035444  ...  2564247.0  3803343.0  4922125.0\n",
              " 2009-01-07  7.727966  14.370469  9.100794  ...  3413898.0  4676568.0  5779916.0\n",
              " 2009-01-08  7.662520  14.176876  9.087723  ...  3969963.0  2949396.0  4588396.0\n",
              " \n",
              " [5 rows x 24 columns])"
            ]
          },
          "metadata": {},
          "execution_count": 56
        }
      ]
    },
    {
      "cell_type": "code",
      "metadata": {
        "colab": {
          "base_uri": "https://localhost:8080/"
        },
        "id": "-lWtj4oO4962",
        "outputId": "64b453f1-1bb3-4dee-f4bc-05d99b0bdc57"
      },
      "source": [
        "print(df.index)\n",
        "print(df.columns)"
      ],
      "execution_count": null,
      "outputs": [
        {
          "output_type": "stream",
          "name": "stdout",
          "text": [
            "DatetimeIndex(['2009-01-02', '2009-01-05', '2009-01-06', '2009-01-07',\n",
            "               '2009-01-08', '2009-01-09', '2009-01-12', '2009-01-13',\n",
            "               '2009-01-14', '2009-01-15',\n",
            "               ...\n",
            "               '2021-09-02', '2021-09-03', '2021-09-06', '2021-09-07',\n",
            "               '2021-09-08', '2021-09-09', '2021-09-10', '2021-09-13',\n",
            "               '2021-09-14', '2021-09-15'],\n",
            "              dtype='datetime64[ns]', name='Date', length=3214, freq=None)\n",
            "MultiIndex([('Adj Close', 'ANZ.AX'),\n",
            "            ('Adj Close', 'CBA.AX'),\n",
            "            ('Adj Close', 'NAB.AX'),\n",
            "            ('Adj Close', 'WBC.AX'),\n",
            "            (    'Close', 'ANZ.AX'),\n",
            "            (    'Close', 'CBA.AX'),\n",
            "            (    'Close', 'NAB.AX'),\n",
            "            (    'Close', 'WBC.AX'),\n",
            "            (     'High', 'ANZ.AX'),\n",
            "            (     'High', 'CBA.AX'),\n",
            "            (     'High', 'NAB.AX'),\n",
            "            (     'High', 'WBC.AX'),\n",
            "            (      'Low', 'ANZ.AX'),\n",
            "            (      'Low', 'CBA.AX'),\n",
            "            (      'Low', 'NAB.AX'),\n",
            "            (      'Low', 'WBC.AX'),\n",
            "            (     'Open', 'ANZ.AX'),\n",
            "            (     'Open', 'CBA.AX'),\n",
            "            (     'Open', 'NAB.AX'),\n",
            "            (     'Open', 'WBC.AX'),\n",
            "            (   'Volume', 'ANZ.AX'),\n",
            "            (   'Volume', 'CBA.AX'),\n",
            "            (   'Volume', 'NAB.AX'),\n",
            "            (   'Volume', 'WBC.AX')],\n",
            "           )\n"
          ]
        }
      ]
    },
    {
      "cell_type": "markdown",
      "metadata": {
        "id": "xmcQWB9Vo8pX"
      },
      "source": [
        "## Step 5: Access useful attributes easily\n",
        "\n",
        "We are interested in the closing price information for all of these stocks."
      ]
    },
    {
      "cell_type": "code",
      "metadata": {
        "id": "rVugNpr-olSV",
        "colab": {
          "base_uri": "https://localhost:8080/"
        },
        "outputId": "c392eff7-53fa-4f6b-f14c-bad8dad9d5d2"
      },
      "source": [
        "Close = df['Close']\n",
        "Close.head"
      ],
      "execution_count": null,
      "outputs": [
        {
          "output_type": "execute_result",
          "data": {
            "text/plain": [
              "<bound method NDFrame.head of                ANZ.AX      CBA.AX     NAB.AX     WBC.AX\n",
              "Date                                                   \n",
              "2009-01-02  15.180000   29.042646  19.406162  16.646669\n",
              "2009-01-05  15.070000   28.445881  19.244446  16.527479\n",
              "2009-01-06  15.400000   29.311192  19.729599  16.914843\n",
              "2009-01-07  15.350000   28.793995  19.872292  16.755924\n",
              "2009-01-08  15.220000   28.406096  19.843754  16.457954\n",
              "...               ...         ...        ...        ...\n",
              "2021-09-09  27.510000  100.550003  28.400000  25.600000\n",
              "2021-09-10  27.590000  101.089996  28.450001  25.650000\n",
              "2021-09-13  27.620001  101.300003  28.180000  25.639999\n",
              "2021-09-14  27.709999  101.580002  28.230000  25.719999\n",
              "2021-09-15  27.610001  101.410004  28.139999  25.790001\n",
              "\n",
              "[3214 rows x 4 columns]>"
            ]
          },
          "metadata": {},
          "execution_count": 58
        }
      ]
    },
    {
      "cell_type": "code",
      "metadata": {
        "colab": {
          "base_uri": "https://localhost:8080/",
          "height": 455
        },
        "id": "dt9rBbgBn3xv",
        "outputId": "5299dc0c-4192-47a1-d706-70c723e52866"
      },
      "source": [
        "df.Close"
      ],
      "execution_count": null,
      "outputs": [
        {
          "output_type": "execute_result",
          "data": {
            "text/html": [
              "<div>\n",
              "<style scoped>\n",
              "    .dataframe tbody tr th:only-of-type {\n",
              "        vertical-align: middle;\n",
              "    }\n",
              "\n",
              "    .dataframe tbody tr th {\n",
              "        vertical-align: top;\n",
              "    }\n",
              "\n",
              "    .dataframe thead th {\n",
              "        text-align: right;\n",
              "    }\n",
              "</style>\n",
              "<table border=\"1\" class=\"dataframe\">\n",
              "  <thead>\n",
              "    <tr style=\"text-align: right;\">\n",
              "      <th></th>\n",
              "      <th>ANZ.AX</th>\n",
              "      <th>CBA.AX</th>\n",
              "      <th>NAB.AX</th>\n",
              "      <th>WBC.AX</th>\n",
              "    </tr>\n",
              "    <tr>\n",
              "      <th>Date</th>\n",
              "      <th></th>\n",
              "      <th></th>\n",
              "      <th></th>\n",
              "      <th></th>\n",
              "    </tr>\n",
              "  </thead>\n",
              "  <tbody>\n",
              "    <tr>\n",
              "      <th>2009-01-02</th>\n",
              "      <td>15.180000</td>\n",
              "      <td>29.042646</td>\n",
              "      <td>19.406162</td>\n",
              "      <td>16.646669</td>\n",
              "    </tr>\n",
              "    <tr>\n",
              "      <th>2009-01-05</th>\n",
              "      <td>15.070000</td>\n",
              "      <td>28.445881</td>\n",
              "      <td>19.244446</td>\n",
              "      <td>16.527479</td>\n",
              "    </tr>\n",
              "    <tr>\n",
              "      <th>2009-01-06</th>\n",
              "      <td>15.400000</td>\n",
              "      <td>29.311192</td>\n",
              "      <td>19.729599</td>\n",
              "      <td>16.914843</td>\n",
              "    </tr>\n",
              "    <tr>\n",
              "      <th>2009-01-07</th>\n",
              "      <td>15.350000</td>\n",
              "      <td>28.793995</td>\n",
              "      <td>19.872292</td>\n",
              "      <td>16.755924</td>\n",
              "    </tr>\n",
              "    <tr>\n",
              "      <th>2009-01-08</th>\n",
              "      <td>15.220000</td>\n",
              "      <td>28.406096</td>\n",
              "      <td>19.843754</td>\n",
              "      <td>16.457954</td>\n",
              "    </tr>\n",
              "    <tr>\n",
              "      <th>...</th>\n",
              "      <td>...</td>\n",
              "      <td>...</td>\n",
              "      <td>...</td>\n",
              "      <td>...</td>\n",
              "    </tr>\n",
              "    <tr>\n",
              "      <th>2021-09-09</th>\n",
              "      <td>27.510000</td>\n",
              "      <td>100.550003</td>\n",
              "      <td>28.400000</td>\n",
              "      <td>25.600000</td>\n",
              "    </tr>\n",
              "    <tr>\n",
              "      <th>2021-09-10</th>\n",
              "      <td>27.590000</td>\n",
              "      <td>101.089996</td>\n",
              "      <td>28.450001</td>\n",
              "      <td>25.650000</td>\n",
              "    </tr>\n",
              "    <tr>\n",
              "      <th>2021-09-13</th>\n",
              "      <td>27.620001</td>\n",
              "      <td>101.300003</td>\n",
              "      <td>28.180000</td>\n",
              "      <td>25.639999</td>\n",
              "    </tr>\n",
              "    <tr>\n",
              "      <th>2021-09-14</th>\n",
              "      <td>27.709999</td>\n",
              "      <td>101.580002</td>\n",
              "      <td>28.230000</td>\n",
              "      <td>25.719999</td>\n",
              "    </tr>\n",
              "    <tr>\n",
              "      <th>2021-09-15</th>\n",
              "      <td>27.610001</td>\n",
              "      <td>101.410004</td>\n",
              "      <td>28.139999</td>\n",
              "      <td>25.790001</td>\n",
              "    </tr>\n",
              "  </tbody>\n",
              "</table>\n",
              "<p>3214 rows × 4 columns</p>\n",
              "</div>"
            ],
            "text/plain": [
              "               ANZ.AX      CBA.AX     NAB.AX     WBC.AX\n",
              "Date                                                   \n",
              "2009-01-02  15.180000   29.042646  19.406162  16.646669\n",
              "2009-01-05  15.070000   28.445881  19.244446  16.527479\n",
              "2009-01-06  15.400000   29.311192  19.729599  16.914843\n",
              "2009-01-07  15.350000   28.793995  19.872292  16.755924\n",
              "2009-01-08  15.220000   28.406096  19.843754  16.457954\n",
              "...               ...         ...        ...        ...\n",
              "2021-09-09  27.510000  100.550003  28.400000  25.600000\n",
              "2021-09-10  27.590000  101.089996  28.450001  25.650000\n",
              "2021-09-13  27.620001  101.300003  28.180000  25.639999\n",
              "2021-09-14  27.709999  101.580002  28.230000  25.719999\n",
              "2021-09-15  27.610001  101.410004  28.139999  25.790001\n",
              "\n",
              "[3214 rows x 4 columns]"
            ]
          },
          "metadata": {},
          "execution_count": 59
        }
      ]
    },
    {
      "cell_type": "code",
      "metadata": {
        "id": "SUvlYGHMn6QX"
      },
      "source": [
        ""
      ],
      "execution_count": null,
      "outputs": []
    },
    {
      "cell_type": "code",
      "metadata": {
        "colab": {
          "base_uri": "https://localhost:8080/"
        },
        "id": "tdrtx5RQ6ncN",
        "outputId": "9ec2efc4-56bc-43e5-e07b-e869b423934c"
      },
      "source": [
        "Close = df['Close']\n",
        "print(Close)\n"
      ],
      "execution_count": null,
      "outputs": [
        {
          "output_type": "stream",
          "name": "stdout",
          "text": [
            "               ANZ.AX      CBA.AX     NAB.AX     WBC.AX\n",
            "Date                                                   \n",
            "2009-01-02  15.180000   29.042646  19.406162  16.646669\n",
            "2009-01-05  15.070000   28.445881  19.244446  16.527479\n",
            "2009-01-06  15.400000   29.311192  19.729599  16.914843\n",
            "2009-01-07  15.350000   28.793995  19.872292  16.755924\n",
            "2009-01-08  15.220000   28.406096  19.843754  16.457954\n",
            "...               ...         ...        ...        ...\n",
            "2021-09-09  27.510000  100.550003  28.400000  25.600000\n",
            "2021-09-10  27.590000  101.089996  28.450001  25.650000\n",
            "2021-09-13  27.620001  101.300003  28.180000  25.639999\n",
            "2021-09-14  27.709999  101.580002  28.230000  25.719999\n",
            "2021-09-15  27.610001  101.410004  28.139999  25.790001\n",
            "\n",
            "[3214 rows x 4 columns]\n"
          ]
        }
      ]
    },
    {
      "cell_type": "markdown",
      "metadata": {
        "id": "DKbUd2tcpGl3"
      },
      "source": [
        "## Step 6: Gain insights quickly with pandas describe method\n"
      ]
    },
    {
      "cell_type": "code",
      "metadata": {
        "id": "n2_QynuJpBZQ",
        "colab": {
          "base_uri": "https://localhost:8080/",
          "height": 352
        },
        "outputId": "fb3a0165-191a-45fe-9d3f-67ea34801f54"
      },
      "source": [
        "df.describe()"
      ],
      "execution_count": null,
      "outputs": [
        {
          "output_type": "execute_result",
          "data": {
            "text/html": [
              "<div>\n",
              "<style scoped>\n",
              "    .dataframe tbody tr th:only-of-type {\n",
              "        vertical-align: middle;\n",
              "    }\n",
              "\n",
              "    .dataframe tbody tr th {\n",
              "        vertical-align: top;\n",
              "    }\n",
              "\n",
              "    .dataframe thead tr th {\n",
              "        text-align: left;\n",
              "    }\n",
              "</style>\n",
              "<table border=\"1\" class=\"dataframe\">\n",
              "  <thead>\n",
              "    <tr>\n",
              "      <th></th>\n",
              "      <th colspan=\"4\" halign=\"left\">Adj Close</th>\n",
              "      <th colspan=\"4\" halign=\"left\">Close</th>\n",
              "      <th colspan=\"4\" halign=\"left\">High</th>\n",
              "      <th colspan=\"4\" halign=\"left\">Low</th>\n",
              "      <th colspan=\"4\" halign=\"left\">Open</th>\n",
              "      <th colspan=\"4\" halign=\"left\">Volume</th>\n",
              "    </tr>\n",
              "    <tr>\n",
              "      <th></th>\n",
              "      <th>ANZ.AX</th>\n",
              "      <th>CBA.AX</th>\n",
              "      <th>NAB.AX</th>\n",
              "      <th>WBC.AX</th>\n",
              "      <th>ANZ.AX</th>\n",
              "      <th>CBA.AX</th>\n",
              "      <th>NAB.AX</th>\n",
              "      <th>WBC.AX</th>\n",
              "      <th>ANZ.AX</th>\n",
              "      <th>CBA.AX</th>\n",
              "      <th>NAB.AX</th>\n",
              "      <th>WBC.AX</th>\n",
              "      <th>ANZ.AX</th>\n",
              "      <th>CBA.AX</th>\n",
              "      <th>NAB.AX</th>\n",
              "      <th>WBC.AX</th>\n",
              "      <th>ANZ.AX</th>\n",
              "      <th>CBA.AX</th>\n",
              "      <th>NAB.AX</th>\n",
              "      <th>WBC.AX</th>\n",
              "      <th>ANZ.AX</th>\n",
              "      <th>CBA.AX</th>\n",
              "      <th>NAB.AX</th>\n",
              "      <th>WBC.AX</th>\n",
              "    </tr>\n",
              "  </thead>\n",
              "  <tbody>\n",
              "    <tr>\n",
              "      <th>count</th>\n",
              "      <td>3214.000000</td>\n",
              "      <td>3212.000000</td>\n",
              "      <td>3212.000000</td>\n",
              "      <td>3212.000000</td>\n",
              "      <td>3214.000000</td>\n",
              "      <td>3212.000000</td>\n",
              "      <td>3212.000000</td>\n",
              "      <td>3212.000000</td>\n",
              "      <td>3214.000000</td>\n",
              "      <td>3212.000000</td>\n",
              "      <td>3212.000000</td>\n",
              "      <td>3212.000000</td>\n",
              "      <td>3214.000000</td>\n",
              "      <td>3212.000000</td>\n",
              "      <td>3212.000000</td>\n",
              "      <td>3212.000000</td>\n",
              "      <td>3214.000000</td>\n",
              "      <td>3212.000000</td>\n",
              "      <td>3212.000000</td>\n",
              "      <td>3212.000000</td>\n",
              "      <td>3.214000e+03</td>\n",
              "      <td>3.212000e+03</td>\n",
              "      <td>3.212000e+03</td>\n",
              "      <td>3.212000e+03</td>\n",
              "    </tr>\n",
              "    <tr>\n",
              "      <th>mean</th>\n",
              "      <td>19.064279</td>\n",
              "      <td>52.235186</td>\n",
              "      <td>18.858375</td>\n",
              "      <td>20.005254</td>\n",
              "      <td>25.874942</td>\n",
              "      <td>68.705414</td>\n",
              "      <td>26.603584</td>\n",
              "      <td>26.865908</td>\n",
              "      <td>26.078270</td>\n",
              "      <td>69.177501</td>\n",
              "      <td>26.803539</td>\n",
              "      <td>27.070423</td>\n",
              "      <td>25.669798</td>\n",
              "      <td>68.203550</td>\n",
              "      <td>26.400024</td>\n",
              "      <td>26.657241</td>\n",
              "      <td>25.885412</td>\n",
              "      <td>68.713596</td>\n",
              "      <td>26.614265</td>\n",
              "      <td>26.876072</td>\n",
              "      <td>7.026300e+06</td>\n",
              "      <td>3.686408e+06</td>\n",
              "      <td>6.726703e+06</td>\n",
              "      <td>7.398109e+06</td>\n",
              "    </tr>\n",
              "    <tr>\n",
              "      <th>std</th>\n",
              "      <td>5.464520</td>\n",
              "      <td>19.342084</td>\n",
              "      <td>5.262451</td>\n",
              "      <td>5.434229</td>\n",
              "      <td>4.803345</td>\n",
              "      <td>15.493867</td>\n",
              "      <td>4.390008</td>\n",
              "      <td>5.304591</td>\n",
              "      <td>4.791295</td>\n",
              "      <td>15.540683</td>\n",
              "      <td>4.377513</td>\n",
              "      <td>5.307382</td>\n",
              "      <td>4.813011</td>\n",
              "      <td>15.434606</td>\n",
              "      <td>4.397389</td>\n",
              "      <td>5.297954</td>\n",
              "      <td>4.803246</td>\n",
              "      <td>15.487929</td>\n",
              "      <td>4.386043</td>\n",
              "      <td>5.307820</td>\n",
              "      <td>3.778247e+06</td>\n",
              "      <td>2.171454e+06</td>\n",
              "      <td>3.827758e+06</td>\n",
              "      <td>3.885940e+06</td>\n",
              "    </tr>\n",
              "    <tr>\n",
              "      <th>min</th>\n",
              "      <td>5.986029</td>\n",
              "      <td>11.948084</td>\n",
              "      <td>6.983520</td>\n",
              "      <td>7.534145</td>\n",
              "      <td>11.890000</td>\n",
              "      <td>23.940290</td>\n",
              "      <td>13.880000</td>\n",
              "      <td>14.100000</td>\n",
              "      <td>12.280000</td>\n",
              "      <td>24.865278</td>\n",
              "      <td>14.480000</td>\n",
              "      <td>14.630000</td>\n",
              "      <td>11.830000</td>\n",
              "      <td>23.900507</td>\n",
              "      <td>13.195000</td>\n",
              "      <td>13.470000</td>\n",
              "      <td>12.090000</td>\n",
              "      <td>24.745926</td>\n",
              "      <td>14.270000</td>\n",
              "      <td>14.480000</td>\n",
              "      <td>0.000000e+00</td>\n",
              "      <td>0.000000e+00</td>\n",
              "      <td>0.000000e+00</td>\n",
              "      <td>0.000000e+00</td>\n",
              "    </tr>\n",
              "    <tr>\n",
              "      <th>25%</th>\n",
              "      <td>13.472273</td>\n",
              "      <td>30.705282</td>\n",
              "      <td>13.097493</td>\n",
              "      <td>14.050595</td>\n",
              "      <td>22.832500</td>\n",
              "      <td>54.032254</td>\n",
              "      <td>23.591806</td>\n",
              "      <td>22.663208</td>\n",
              "      <td>23.049999</td>\n",
              "      <td>54.437555</td>\n",
              "      <td>23.810600</td>\n",
              "      <td>22.844475</td>\n",
              "      <td>22.652500</td>\n",
              "      <td>53.517541</td>\n",
              "      <td>23.437223</td>\n",
              "      <td>22.474494</td>\n",
              "      <td>22.850000</td>\n",
              "      <td>53.922845</td>\n",
              "      <td>23.639370</td>\n",
              "      <td>22.693007</td>\n",
              "      <td>4.642638e+06</td>\n",
              "      <td>2.357141e+06</td>\n",
              "      <td>4.422088e+06</td>\n",
              "      <td>4.901542e+06</td>\n",
              "    </tr>\n",
              "    <tr>\n",
              "      <th>50%</th>\n",
              "      <td>20.316768</td>\n",
              "      <td>56.786320</td>\n",
              "      <td>20.415663</td>\n",
              "      <td>22.200460</td>\n",
              "      <td>26.375000</td>\n",
              "      <td>72.882553</td>\n",
              "      <td>26.608685</td>\n",
              "      <td>27.145195</td>\n",
              "      <td>26.595000</td>\n",
              "      <td>73.391178</td>\n",
              "      <td>26.784058</td>\n",
              "      <td>27.333910</td>\n",
              "      <td>26.150000</td>\n",
              "      <td>72.368980</td>\n",
              "      <td>26.362519</td>\n",
              "      <td>26.973206</td>\n",
              "      <td>26.315000</td>\n",
              "      <td>72.945000</td>\n",
              "      <td>26.595000</td>\n",
              "      <td>27.152563</td>\n",
              "      <td>6.154850e+06</td>\n",
              "      <td>3.144842e+06</td>\n",
              "      <td>5.857673e+06</td>\n",
              "      <td>6.463967e+06</td>\n",
              "    </tr>\n",
              "    <tr>\n",
              "      <th>75%</th>\n",
              "      <td>23.620510</td>\n",
              "      <td>65.034241</td>\n",
              "      <td>23.541030</td>\n",
              "      <td>24.340032</td>\n",
              "      <td>28.965000</td>\n",
              "      <td>80.110001</td>\n",
              "      <td>29.850000</td>\n",
              "      <td>31.267134</td>\n",
              "      <td>29.170000</td>\n",
              "      <td>80.556046</td>\n",
              "      <td>30.020619</td>\n",
              "      <td>31.469999</td>\n",
              "      <td>28.790001</td>\n",
              "      <td>79.687035</td>\n",
              "      <td>29.670000</td>\n",
              "      <td>31.030001</td>\n",
              "      <td>29.000000</td>\n",
              "      <td>80.068687</td>\n",
              "      <td>29.843799</td>\n",
              "      <td>31.270000</td>\n",
              "      <td>8.536301e+06</td>\n",
              "      <td>4.335613e+06</td>\n",
              "      <td>7.903465e+06</td>\n",
              "      <td>8.819979e+06</td>\n",
              "    </tr>\n",
              "    <tr>\n",
              "      <th>max</th>\n",
              "      <td>29.530001</td>\n",
              "      <td>106.060188</td>\n",
              "      <td>28.860001</td>\n",
              "      <td>28.082495</td>\n",
              "      <td>37.189999</td>\n",
              "      <td>108.169998</td>\n",
              "      <td>37.642250</td>\n",
              "      <td>39.620266</td>\n",
              "      <td>37.250000</td>\n",
              "      <td>109.029999</td>\n",
              "      <td>37.775429</td>\n",
              "      <td>39.799049</td>\n",
              "      <td>36.759998</td>\n",
              "      <td>107.129997</td>\n",
              "      <td>37.528095</td>\n",
              "      <td>39.461346</td>\n",
              "      <td>37.049999</td>\n",
              "      <td>108.860001</td>\n",
              "      <td>37.756401</td>\n",
              "      <td>39.719589</td>\n",
              "      <td>6.347592e+07</td>\n",
              "      <td>3.561263e+07</td>\n",
              "      <td>6.043383e+07</td>\n",
              "      <td>4.655552e+07</td>\n",
              "    </tr>\n",
              "  </tbody>\n",
              "</table>\n",
              "</div>"
            ],
            "text/plain": [
              "         Adj Close               ...        Volume              \n",
              "            ANZ.AX       CBA.AX  ...        NAB.AX        WBC.AX\n",
              "count  3214.000000  3212.000000  ...  3.212000e+03  3.212000e+03\n",
              "mean     19.064279    52.235186  ...  6.726703e+06  7.398109e+06\n",
              "std       5.464520    19.342084  ...  3.827758e+06  3.885940e+06\n",
              "min       5.986029    11.948084  ...  0.000000e+00  0.000000e+00\n",
              "25%      13.472273    30.705282  ...  4.422088e+06  4.901542e+06\n",
              "50%      20.316768    56.786320  ...  5.857673e+06  6.463967e+06\n",
              "75%      23.620510    65.034241  ...  7.903465e+06  8.819979e+06\n",
              "max      29.530001   106.060188  ...  6.043383e+07  4.655552e+07\n",
              "\n",
              "[8 rows x 24 columns]"
            ]
          },
          "metadata": {},
          "execution_count": 61
        }
      ]
    },
    {
      "cell_type": "code",
      "metadata": {
        "colab": {
          "base_uri": "https://localhost:8080/",
          "height": 300
        },
        "id": "I_Rj67Y561u2",
        "outputId": "2d78c0cd-2557-4c75-d88b-0a10ab8a3808"
      },
      "source": [
        "Close.describe()"
      ],
      "execution_count": null,
      "outputs": [
        {
          "output_type": "execute_result",
          "data": {
            "text/html": [
              "<div>\n",
              "<style scoped>\n",
              "    .dataframe tbody tr th:only-of-type {\n",
              "        vertical-align: middle;\n",
              "    }\n",
              "\n",
              "    .dataframe tbody tr th {\n",
              "        vertical-align: top;\n",
              "    }\n",
              "\n",
              "    .dataframe thead th {\n",
              "        text-align: right;\n",
              "    }\n",
              "</style>\n",
              "<table border=\"1\" class=\"dataframe\">\n",
              "  <thead>\n",
              "    <tr style=\"text-align: right;\">\n",
              "      <th></th>\n",
              "      <th>ANZ.AX</th>\n",
              "      <th>CBA.AX</th>\n",
              "      <th>NAB.AX</th>\n",
              "      <th>WBC.AX</th>\n",
              "    </tr>\n",
              "  </thead>\n",
              "  <tbody>\n",
              "    <tr>\n",
              "      <th>count</th>\n",
              "      <td>3214.000000</td>\n",
              "      <td>3212.000000</td>\n",
              "      <td>3212.000000</td>\n",
              "      <td>3212.000000</td>\n",
              "    </tr>\n",
              "    <tr>\n",
              "      <th>mean</th>\n",
              "      <td>25.874942</td>\n",
              "      <td>68.705414</td>\n",
              "      <td>26.603584</td>\n",
              "      <td>26.865908</td>\n",
              "    </tr>\n",
              "    <tr>\n",
              "      <th>std</th>\n",
              "      <td>4.803345</td>\n",
              "      <td>15.493867</td>\n",
              "      <td>4.390008</td>\n",
              "      <td>5.304591</td>\n",
              "    </tr>\n",
              "    <tr>\n",
              "      <th>min</th>\n",
              "      <td>11.890000</td>\n",
              "      <td>23.940290</td>\n",
              "      <td>13.880000</td>\n",
              "      <td>14.100000</td>\n",
              "    </tr>\n",
              "    <tr>\n",
              "      <th>25%</th>\n",
              "      <td>22.832500</td>\n",
              "      <td>54.032254</td>\n",
              "      <td>23.591806</td>\n",
              "      <td>22.663208</td>\n",
              "    </tr>\n",
              "    <tr>\n",
              "      <th>50%</th>\n",
              "      <td>26.375000</td>\n",
              "      <td>72.882553</td>\n",
              "      <td>26.608685</td>\n",
              "      <td>27.145195</td>\n",
              "    </tr>\n",
              "    <tr>\n",
              "      <th>75%</th>\n",
              "      <td>28.965000</td>\n",
              "      <td>80.110001</td>\n",
              "      <td>29.850000</td>\n",
              "      <td>31.267134</td>\n",
              "    </tr>\n",
              "    <tr>\n",
              "      <th>max</th>\n",
              "      <td>37.189999</td>\n",
              "      <td>108.169998</td>\n",
              "      <td>37.642250</td>\n",
              "      <td>39.620266</td>\n",
              "    </tr>\n",
              "  </tbody>\n",
              "</table>\n",
              "</div>"
            ],
            "text/plain": [
              "            ANZ.AX       CBA.AX       NAB.AX       WBC.AX\n",
              "count  3214.000000  3212.000000  3212.000000  3212.000000\n",
              "mean     25.874942    68.705414    26.603584    26.865908\n",
              "std       4.803345    15.493867     4.390008     5.304591\n",
              "min      11.890000    23.940290    13.880000    14.100000\n",
              "25%      22.832500    54.032254    23.591806    22.663208\n",
              "50%      26.375000    72.882553    26.608685    27.145195\n",
              "75%      28.965000    80.110001    29.850000    31.267134\n",
              "max      37.189999   108.169998    37.642250    39.620266"
            ]
          },
          "metadata": {},
          "execution_count": 62
        }
      ]
    },
    {
      "cell_type": "code",
      "metadata": {
        "colab": {
          "base_uri": "https://localhost:8080/"
        },
        "id": "F2jZLFDB7HfG",
        "outputId": "4fe9637d-0ccb-4fd3-ea7f-b1866a9769fd"
      },
      "source": [
        "df.info"
      ],
      "execution_count": null,
      "outputs": [
        {
          "output_type": "execute_result",
          "data": {
            "text/plain": [
              "<bound method DataFrame.info of             Adj Close                         ...     Volume                      \n",
              "               ANZ.AX      CBA.AX     NAB.AX  ...     CBA.AX     NAB.AX     WBC.AX\n",
              "Date                                          ...                                 \n",
              "2009-01-02   7.642381   14.494561   8.887321  ...  2269780.0  2572210.0  3655805.0\n",
              "2009-01-05   7.587002   14.196732   8.813263  ...  2908531.0  2822855.0  5161118.0\n",
              "2009-01-06   7.753141   14.628585   9.035444  ...  2564247.0  3803343.0  4922125.0\n",
              "2009-01-07   7.727966   14.370469   9.100794  ...  3413898.0  4676568.0  5779916.0\n",
              "2009-01-08   7.662520   14.176876   9.087723  ...  3969963.0  2949396.0  4588396.0\n",
              "...               ...         ...        ...  ...        ...        ...        ...\n",
              "2021-09-09  27.510000  100.550003  28.400000  ...  2468569.0  6209123.0  6285165.0\n",
              "2021-09-10  27.590000  101.089996  28.450001  ...  1995586.0  4490010.0  3862459.0\n",
              "2021-09-13  27.620001  101.300003  28.180000  ...  1119691.0  4081323.0  3159366.0\n",
              "2021-09-14  27.709999  101.580002  28.230000  ...  2114634.0  5473211.0  5793640.0\n",
              "2021-09-15  27.610001  101.410004  28.139999  ...  1668541.0  4458631.0  4874131.0\n",
              "\n",
              "[3214 rows x 24 columns]>"
            ]
          },
          "metadata": {},
          "execution_count": 63
        }
      ]
    },
    {
      "cell_type": "code",
      "metadata": {
        "colab": {
          "base_uri": "https://localhost:8080/",
          "height": 300
        },
        "id": "47OXVCmF7XHB",
        "outputId": "50a8209b-a2fe-45d5-8598-b8fcdfc3b5f8"
      },
      "source": [
        "Close.describe()"
      ],
      "execution_count": null,
      "outputs": [
        {
          "output_type": "execute_result",
          "data": {
            "text/html": [
              "<div>\n",
              "<style scoped>\n",
              "    .dataframe tbody tr th:only-of-type {\n",
              "        vertical-align: middle;\n",
              "    }\n",
              "\n",
              "    .dataframe tbody tr th {\n",
              "        vertical-align: top;\n",
              "    }\n",
              "\n",
              "    .dataframe thead th {\n",
              "        text-align: right;\n",
              "    }\n",
              "</style>\n",
              "<table border=\"1\" class=\"dataframe\">\n",
              "  <thead>\n",
              "    <tr style=\"text-align: right;\">\n",
              "      <th></th>\n",
              "      <th>ANZ.AX</th>\n",
              "      <th>CBA.AX</th>\n",
              "      <th>NAB.AX</th>\n",
              "      <th>WBC.AX</th>\n",
              "    </tr>\n",
              "  </thead>\n",
              "  <tbody>\n",
              "    <tr>\n",
              "      <th>count</th>\n",
              "      <td>3214.000000</td>\n",
              "      <td>3212.000000</td>\n",
              "      <td>3212.000000</td>\n",
              "      <td>3212.000000</td>\n",
              "    </tr>\n",
              "    <tr>\n",
              "      <th>mean</th>\n",
              "      <td>25.874942</td>\n",
              "      <td>68.705414</td>\n",
              "      <td>26.603584</td>\n",
              "      <td>26.865908</td>\n",
              "    </tr>\n",
              "    <tr>\n",
              "      <th>std</th>\n",
              "      <td>4.803345</td>\n",
              "      <td>15.493867</td>\n",
              "      <td>4.390008</td>\n",
              "      <td>5.304591</td>\n",
              "    </tr>\n",
              "    <tr>\n",
              "      <th>min</th>\n",
              "      <td>11.890000</td>\n",
              "      <td>23.940290</td>\n",
              "      <td>13.880000</td>\n",
              "      <td>14.100000</td>\n",
              "    </tr>\n",
              "    <tr>\n",
              "      <th>25%</th>\n",
              "      <td>22.832500</td>\n",
              "      <td>54.032254</td>\n",
              "      <td>23.591806</td>\n",
              "      <td>22.663208</td>\n",
              "    </tr>\n",
              "    <tr>\n",
              "      <th>50%</th>\n",
              "      <td>26.375000</td>\n",
              "      <td>72.882553</td>\n",
              "      <td>26.608685</td>\n",
              "      <td>27.145195</td>\n",
              "    </tr>\n",
              "    <tr>\n",
              "      <th>75%</th>\n",
              "      <td>28.965000</td>\n",
              "      <td>80.110001</td>\n",
              "      <td>29.850000</td>\n",
              "      <td>31.267134</td>\n",
              "    </tr>\n",
              "    <tr>\n",
              "      <th>max</th>\n",
              "      <td>37.189999</td>\n",
              "      <td>108.169998</td>\n",
              "      <td>37.642250</td>\n",
              "      <td>39.620266</td>\n",
              "    </tr>\n",
              "  </tbody>\n",
              "</table>\n",
              "</div>"
            ],
            "text/plain": [
              "            ANZ.AX       CBA.AX       NAB.AX       WBC.AX\n",
              "count  3214.000000  3212.000000  3212.000000  3212.000000\n",
              "mean     25.874942    68.705414    26.603584    26.865908\n",
              "std       4.803345    15.493867     4.390008     5.304591\n",
              "min      11.890000    23.940290    13.880000    14.100000\n",
              "25%      22.832500    54.032254    23.591806    22.663208\n",
              "50%      26.375000    72.882553    26.608685    27.145195\n",
              "75%      28.965000    80.110001    29.850000    31.267134\n",
              "max      37.189999   108.169998    37.642250    39.620266"
            ]
          },
          "metadata": {},
          "execution_count": 64
        }
      ]
    },
    {
      "cell_type": "markdown",
      "metadata": {
        "id": "efy-YAV1ph8T"
      },
      "source": [
        "## Step 7: Plot and save"
      ]
    },
    {
      "cell_type": "code",
      "metadata": {
        "id": "O3EPGjFqpS4-",
        "colab": {
          "base_uri": "https://localhost:8080/",
          "height": 300
        },
        "outputId": "24c12fff-51a6-4c4f-e4f0-2a5af94996fe"
      },
      "source": [
        "Close.describe(percentiles=[0.1,0.5,0.9])"
      ],
      "execution_count": null,
      "outputs": [
        {
          "output_type": "execute_result",
          "data": {
            "text/html": [
              "<div>\n",
              "<style scoped>\n",
              "    .dataframe tbody tr th:only-of-type {\n",
              "        vertical-align: middle;\n",
              "    }\n",
              "\n",
              "    .dataframe tbody tr th {\n",
              "        vertical-align: top;\n",
              "    }\n",
              "\n",
              "    .dataframe thead th {\n",
              "        text-align: right;\n",
              "    }\n",
              "</style>\n",
              "<table border=\"1\" class=\"dataframe\">\n",
              "  <thead>\n",
              "    <tr style=\"text-align: right;\">\n",
              "      <th></th>\n",
              "      <th>ANZ.AX</th>\n",
              "      <th>CBA.AX</th>\n",
              "      <th>NAB.AX</th>\n",
              "      <th>WBC.AX</th>\n",
              "    </tr>\n",
              "  </thead>\n",
              "  <tbody>\n",
              "    <tr>\n",
              "      <th>count</th>\n",
              "      <td>3214.000000</td>\n",
              "      <td>3212.000000</td>\n",
              "      <td>3212.000000</td>\n",
              "      <td>3212.000000</td>\n",
              "    </tr>\n",
              "    <tr>\n",
              "      <th>mean</th>\n",
              "      <td>25.874942</td>\n",
              "      <td>68.705414</td>\n",
              "      <td>26.603584</td>\n",
              "      <td>26.865908</td>\n",
              "    </tr>\n",
              "    <tr>\n",
              "      <th>std</th>\n",
              "      <td>4.803345</td>\n",
              "      <td>15.493867</td>\n",
              "      <td>4.390008</td>\n",
              "      <td>5.304591</td>\n",
              "    </tr>\n",
              "    <tr>\n",
              "      <th>min</th>\n",
              "      <td>11.890000</td>\n",
              "      <td>23.940290</td>\n",
              "      <td>13.880000</td>\n",
              "      <td>14.100000</td>\n",
              "    </tr>\n",
              "    <tr>\n",
              "      <th>10%</th>\n",
              "      <td>19.320000</td>\n",
              "      <td>49.015433</td>\n",
              "      <td>21.280190</td>\n",
              "      <td>19.827018</td>\n",
              "    </tr>\n",
              "    <tr>\n",
              "      <th>50%</th>\n",
              "      <td>26.375000</td>\n",
              "      <td>72.882553</td>\n",
              "      <td>26.608685</td>\n",
              "      <td>27.145195</td>\n",
              "    </tr>\n",
              "    <tr>\n",
              "      <th>90%</th>\n",
              "      <td>32.090000</td>\n",
              "      <td>84.769997</td>\n",
              "      <td>32.459999</td>\n",
              "      <td>33.401602</td>\n",
              "    </tr>\n",
              "    <tr>\n",
              "      <th>max</th>\n",
              "      <td>37.189999</td>\n",
              "      <td>108.169998</td>\n",
              "      <td>37.642250</td>\n",
              "      <td>39.620266</td>\n",
              "    </tr>\n",
              "  </tbody>\n",
              "</table>\n",
              "</div>"
            ],
            "text/plain": [
              "            ANZ.AX       CBA.AX       NAB.AX       WBC.AX\n",
              "count  3214.000000  3212.000000  3212.000000  3212.000000\n",
              "mean     25.874942    68.705414    26.603584    26.865908\n",
              "std       4.803345    15.493867     4.390008     5.304591\n",
              "min      11.890000    23.940290    13.880000    14.100000\n",
              "10%      19.320000    49.015433    21.280190    19.827018\n",
              "50%      26.375000    72.882553    26.608685    27.145195\n",
              "90%      32.090000    84.769997    32.459999    33.401602\n",
              "max      37.189999   108.169998    37.642250    39.620266"
            ]
          },
          "metadata": {},
          "execution_count": 65
        }
      ]
    },
    {
      "cell_type": "code",
      "metadata": {
        "colab": {
          "base_uri": "https://localhost:8080/",
          "height": 287
        },
        "id": "nvFnZcl09FFh",
        "outputId": "bf781a88-db1b-46bb-8906-daa24aa24dfe"
      },
      "source": [
        "Close.plot()"
      ],
      "execution_count": null,
      "outputs": [
        {
          "output_type": "execute_result",
          "data": {
            "text/plain": [
              "<matplotlib.axes._subplots.AxesSubplot at 0x7f69927cd550>"
            ]
          },
          "metadata": {},
          "execution_count": 66
        },
        {
          "output_type": "display_data",
          "data": {
            "image/png": "[encoded data removed]",
            "text/plain": [
              "<Figure size 432x288 with 1 Axes>"
            ]
          },
          "metadata": {
            "needs_background": "light"
          }
        }
      ]
    },
    {
      "cell_type": "code",
      "metadata": {
        "colab": {
          "base_uri": "https://localhost:8080/",
          "height": 416
        },
        "id": "EPstNdna9MGE",
        "outputId": "9aebe04d-40b9-4dcc-a249-39110dd6bd5e"
      },
      "source": [
        "Close.plot(figsize=(12,7))\n",
        "plt.savefig(\"AUSSIE_BANKS\")"
      ],
      "execution_count": null,
      "outputs": [
        {
          "output_type": "display_data",
          "data": {
            "image/png": "[encoded data removed]",
            "text/plain": [
              "<Figure size 864x504 with 1 Axes>"
            ]
          },
          "metadata": {
            "needs_background": "light"
          }
        }
      ]
    }
  ]
}