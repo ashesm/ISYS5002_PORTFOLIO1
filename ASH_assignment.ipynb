{
  "nbformat": 4,
  "nbformat_minor": 0,
  "metadata": {
    "colab": {
      "name": "ASH_assignment.ipynb",
      "provenance": [],
      "collapsed_sections": [],
      "authorship_tag": "ABX9TyN26oq/zVliooD4YOyNt+Vf",
      "include_colab_link": true
    },
    "kernelspec": {
      "name": "python3",
      "display_name": "Python 3"
    },
    "language_info": {
      "name": "python"
    }
  },
  "cells": [
    {
      "cell_type": "markdown",
      "metadata": {
        "id": "view-in-github",
        "colab_type": "text"
      },
      "source": [
        "<a href=\"https://colab.research.google.com/github/ashesm/ISYS5002_PORTFOLIO1/blob/main/ASH_assignment.ipynb\" target=\"_parent\"><img src=\"https://colab.research.google.com/assets/colab-badge.svg\" alt=\"Open In Colab\"/></a>"
      ]
    },
    {
      "cell_type": "markdown",
      "metadata": {
        "id": "7OrqTzsNkkXp"
      },
      "source": [
        "#ISY5002 - Assignment\n",
        "##Introduction to Programming (Semester 2 2021 Bentley Campus)\n",
        "\n",
        "\n",
        "# Ashkan Esmaili Dahesht \n",
        "\n"
      ]
    },
    {
      "cell_type": "markdown",
      "metadata": {
        "id": "FbiEteWck_Ed"
      },
      "source": [
        "# Links to my Github and Binder\n",
        "\n",
        "https://mybinder.org/v2/gh/ashesm/ISY5002_Assignment.git/HEAD\n",
        "\n",
        "https://hub.gke2.mybinder.org/user/ashesm-isy5002_assignment-px8iifll/lab/tree/ASH_assignment.ipynb"
      ]
    },
    {
      "cell_type": "markdown",
      "metadata": {
        "id": "6YI2ndRJKA7U"
      },
      "source": [
        "Before starting the concepts below just wanna mention that I understood that I needed to save all the progress that was made in the assignment into the Github so it could show them in the history as my work flow and a demonstration of what steps I took; I created an Assignment Repository in my github but I had issues saving contents into that and couldnt find the reason on why I coulnt save the progress, so I started the progress in notebook and saved as I go. I tried to resolve the issue by emailing to Micheal but it didnt help since it was hard to explain what the issue was in the email. Micheal worked it out and got rectified in the face to face lecture which was 2 days before the due day of the assignment submission. so I wasnt able to start over and create history again in this limited time. my Appologies on not being able to have all the work flow history in github."
      ]
    },
    {
      "cell_type": "markdown",
      "metadata": {
        "id": "R0cXstX2DdIm"
      },
      "source": [
        "### Assignment specification\n",
        "Write a notebook that prompts the user for a company's stock market ticker symbol. Your program then\n",
        "scrapes the Yahoo Finance website to extract information on the key Executive of the company. Then for each\n",
        "executive calculate the expected income tax based on the ATO tax tables. The user can choose if the data\n",
        "will be saved as a CSV and/or stored in an SQLite database. \n",
        "\n",
        "\n"
      ]
    },
    {
      "cell_type": "markdown",
      "metadata": {
        "id": "gI47IExRX9zs"
      },
      "source": [
        "# Problem Solving Methodology\n",
        "\n",
        "In this Assignment Im going to show How I have brocken down the problem and apply the 5 steps of problem solving in modifying and solving the problem. The process of problem solving I will use can be broken down into 5 key steps:\n",
        "1. State the problem clearly\n",
        "2. Describe the input and output information\n",
        "3. Work the problem by hand\n",
        "4. Develop an algorithm (and convert to python) \n",
        "5. Test solution with a variety of data"
      ]
    },
    {
      "cell_type": "markdown",
      "metadata": {
        "id": "XAFIhDdZkTjU"
      },
      "source": [
        "#State the problem clearly and Input and Output information\n",
        "The words that Im not familiar with and need more clarification are \"promps\", \"ticker symbol\"? and also since in the assignment's specification its not clearly specified to select an Australian company or any company that need to be clarified.\n",
        "\n",
        "Ticker Symbol: \n",
        "\n",
        "* A stock symbol is a unique series of letters assigned to a security for trading purposes.\n",
        "\n",
        "* Investors and traders use the symbol to place trade orders.\n",
        "\n",
        "https://www.investopedia.com/terms/s/stocksymbol.asp\n",
        "\n",
        "To prompt the user I guess I will need to use the input() function\n",
        "\n",
        "Micheal clarified that its alright to choose any company.\n",
        "\n",
        "** Note: Since im using ATO table to calculate the income tax im gonna  search for an Australian company **\n",
        "\n",
        "\n",
        "By understanding the problem I realized that I have to scrape the yahoo finance website and find the Key Executive and once I extract them I need to calculate the income tax based on ATO table. So the Input, Output and the process requirements are as followed: \n",
        "\n",
        "# Input\n",
        "* Ticker symbol\n",
        "\n",
        "* Prompt which is gonna be the input function\n",
        "\n",
        "# Process\n",
        "* Scraping yahoo finance website\n",
        "\n",
        "https://au.finance.yahoo.com/\n",
        "\n",
        "* Extract the Key Executive\n",
        "\n",
        "\n",
        "* Calculate the income tax\n",
        "\n",
        "\n",
        "The income tax and the link are as follow: \n",
        "\n",
        "[Resident tax rates 2021–22\n",
        "Taxable income](https://www.ato.gov.au/rates/individual-income-tax-rates/)\n",
        "\n",
        "Income            | Tax on this income \n",
        "------------------|----------------------\n",
        "0 – \\$18,200       | Nil\n",
        "\\$18,201 – \\$45,000 | 19 cents for each \\$1 over \\$18,200\n",
        "\\$45,001 – \\$120,000 | \\$5,092 plus 32.5 cents for each \\$1 over \\$45,000\n",
        "\\$120,001 – \\$180,000 |  \\$29,467 plus 37 cents for each \\$1 over \\$120,000\n",
        "\\$180,001 and over | \\$51,667 plus 45 cents for each \\$1 over \\$180,000\n",
        "\n",
        "# Output\n",
        "\n",
        "The user has to be able to save in either CSV files or SQL database\n",
        "\n",
        "   * Save to CSV files\n",
        "   * Save to SQL database\n"
      ]
    },
    {
      "cell_type": "markdown",
      "metadata": {
        "id": "wUOY4qj70SHM"
      },
      "source": [
        "# Search the Website\n",
        "By exploring the website and searching a ticker symbol the key Executive information apears to be in the \"Profile Page\".\n",
        "\n",
        "these are the two companies the I searched with their URL below:\n",
        "\n",
        "Coles : ticker symbol is \"COL.AX\"\n",
        "\n",
        "https://au.finance.yahoo.com/quote/COL.AX/profile?p=COL.AX\n",
        "\n",
        "National Australian Bank : ticker symbol is \"NAB.AX\"\n",
        "\n",
        "https://au.finance.yahoo.com/quote/NAB.AX/profile?p=NAB.AX\n",
        "\n",
        "Note : \"AX\" means Australian\n",
        "\n",
        "Thats the table for the Key Executive:\n",
        "\n",
        "```\n",
        "Mr. Ross Maxwell McEwan CBE, B.B.S.    Group CEO, MD & Director    2.54M    N/A    1957\n",
        "Mr. Gary Andrew Lennon BEC, F.C.A., BEc (Hons), FCA    Group Chief Financial Officer    1.13M    N/A    N/A\n",
        "Mr. Patrick F. Wright    Group Exec. of Technology & Enterprise Operations    1.72M    N/A    1967\n",
        "Ms. Sharon J. Cook    Group Exec. of Legal & Commercial Services    912.98k    N/A    N/A\n",
        "Ms. Susan Ferrier    Group Exec. of People & Culture    929.27k    N/A    N/A\n",
        "Ms. Angela Mentis B.Bus    Group Chief Digital, Data & Analytics Officer    1.62M    N/A    N/A\n",
        "Mr. Shaun Dooley    Chief Risk Officer    1.05M    N/A    N/A\n",
        "Mr. Andrew Irvine    Chief Exec. of Bus. Private Banking Division    333.27k    N/A    N/A\n",
        "Mr. Lesile D. Matheson    Group Chief Operating Officer    N/A    N/A    1960\n",
        "Ms. Sally Mihell    Head of Investor Relations    N/A    N/A    N/A\n",
        "```\n",
        "\n",
        "This table consists of five columns but as was discussed with Micheal Only 3 column will be needed in income tax calculation. which are :\n",
        "\n",
        " * Name\n",
        " * title\n",
        " * Pay\n",
        "\n",
        "By looking at the 3rd column I realised that the Pay column consists of 3 types of pays, the pay amount is followed by either \"M\", \" K\" or N/A.\n",
        "\n",
        "So I assume the \"M\" means a million(1000000) and \"K\" means a thousand(1000)\n",
        "\n",
        "An Example of this:\n",
        "\n",
        "2.54M = 2.54 * 1000000\n",
        "\n",
        "912.98K = 912.98 * 1000\n",
        "\n",
        "N/A\n"
      ]
    },
    {
      "cell_type": "markdown",
      "metadata": {
        "id": "GEZfP6eq8OmL"
      },
      "source": [
        "# Calculate the incom tax\n",
        "Here is the function from the previous note book:\n",
        "\n",
        " This function will promtp the user for the income\n",
        "  and return the value\n",
        "```\n",
        "def calculate_tax(income):\n",
        "  if income <= 18200:\n",
        "    tax_payable = 0\n",
        "  elif 18200 < income <= 45000:\n",
        "    tax_payable = 0.19 * (income - 18200)\n",
        "  elif 45000 < income < 120000:\n",
        "    tax_payable = 5092 + 0.32 * (income - 45000)\n",
        "  elif 120001 < income < 180000:\n",
        "    tax_payable = 29467 + 0.37 * (income - 120000)\n",
        "  elif income > 180000:\n",
        "    tax_payable = 51667 + 0.45 * (income - 180000)\n",
        "\n",
        "\n",
        "  return tax_payable\n",
        "  ```\n",
        "  Im gonna use this function since im sure its gonna work."
      ]
    },
    {
      "cell_type": "markdown",
      "metadata": {
        "id": "t_RJySxh9zMc"
      },
      "source": [
        "# Initial Algorithm\n",
        "\n",
        "1. User input ticker symbol\n",
        "2. Use ticker to get profile page\n",
        "3. Copied the table\n",
        "4. For each row of the table\n",
        "* Process a row to extract pay\n",
        "* Find the last charecter to detemine multiplier\n",
        "* Calculate salary, pay * multiplier\n",
        "* Calculate the income tax\n",
        "\n",
        "Note:\n",
        "1. Need to validate the ticker, but for now I will assume the user type in a correct ticker\n",
        "2. Still need to work out where I save the income tax to"
      ]
    },
    {
      "cell_type": "code",
      "metadata": {
        "id": "OsXBuCC2fGvw"
      },
      "source": [
        "#  User input ticker symbol\n",
        "ticker_symbol =input(\"Please input ticker symbol \")\n",
        "print(ticker_symbol)"
      ],
      "execution_count": null,
      "outputs": []
    },
    {
      "cell_type": "code",
      "metadata": {
        "id": "731JE6dAfgHG"
      },
      "source": [
        "# Use ticker to get profile page\n",
        " \n",
        "example_url = 'https://au.finance.yahoo.com/quote/{}/profile?p={}'\n",
        "example_url.format(ticker_symbol , ticker_symbol)"
      ],
      "execution_count": null,
      "outputs": []
    },
    {
      "cell_type": "markdown",
      "metadata": {
        "id": "cIGsldd1A-17"
      },
      "source": [
        "# How to Use ticker to get profile page\n",
        "I googled How to insert a variable into a string in python and used this source :\n",
        "\n",
        " https://matthew-brett.github.io/teaching/string_formatting.html\n",
        "\n",
        "firstly I put curly brackets on the ticker symbols as a space holder in the URL then I used the \"format\" function and tested with different vriables to undersand how it work.\n",
        "\n",
        " example_url = 'https://au.finance.yahoo.com/quote/COL.AX/profile?p=COL.AX'\n",
        "\n",
        "https://au.finance.yahoo.com/quote/{}/profile?p={}\n",
        "\n",
        "then I tried the \"ticker_symbol\".\n",
        "\n",
        "and once I realised and tested that its working I start to create a function  As follow:"
      ]
    },
    {
      "cell_type": "code",
      "metadata": {
        "id": "bCMX40hHhEk6"
      },
      "source": [
        "#Create a function to build URL\n",
        "def build_url():\n",
        "# User input ticker symbol\n",
        "  ticker_symbol =input(\"Please input ticker symbol \")\n",
        "  # print(ticker_symbol)\n",
        "  # No need to print the symbol\n",
        "  example_url = 'https://au.finance.yahoo.com/quote/{}/profile?p={}'\n",
        "  result = example_url.format(ticker_symbol , ticker_symbol)\n",
        "  return result"
      ],
      "execution_count": null,
      "outputs": []
    },
    {
      "cell_type": "code",
      "metadata": {
        "id": "Ruoe0gKPju4w"
      },
      "source": [
        "# The above function wont do anything so I did this and the result is printed:\n",
        "url = build_url()\n",
        "print(url)"
      ],
      "execution_count": null,
      "outputs": []
    },
    {
      "cell_type": "markdown",
      "metadata": {
        "id": "1Os8tPyxKloq"
      },
      "source": [
        "#Installing and Importing the required Packages\n",
        "\n",
        "##Kora\n",
        "This is a collection of tools to make programming on Google Colab easier.\n",
        "\n",
        "##Beautiful Soup:\n",
        "Is a Python library that is used for web scraping purposes to pull the data out of HTML and XML files. It creates a parse tree from page source code that can be used to extract data in a hierarchical and more readable manner\n",
        "\n",
        "https://analyticsindiamag.com/beautiful-soup-webscraping-python/\n",
        " \n",
        "##Selenium\n",
        "Selenium is a tool to test your web application.\n",
        "\n",
        "https://www.guru99.com/selenium-python.html#2\n",
        "\n",
        "## Pandas\n",
        "pandas is a software library written for the Python programming language for data manipulation and analysis. In particular, it offers data structures and operations for manipulating numerical tables and time series.\n",
        "\n",
        "https://en.wikipedia.org/wiki/Pandas_(software)"
      ]
    },
    {
      "cell_type": "code",
      "metadata": {
        "id": "Tr9JKD2ek8rB"
      },
      "source": [
        "# I installed unique packages\n",
        "!pip install kora -q\n",
        "\n",
        "#load packages\n",
        "from bs4 import BeautifulSoup\n",
        "from kora.selenium import wd\n",
        "import pandas as pd"
      ],
      "execution_count": null,
      "outputs": []
    },
    {
      "cell_type": "markdown",
      "metadata": {
        "id": "e7H5DODzmnh5"
      },
      "source": [
        "# Getting the Webpage\n",
        "\n",
        "In this step Once I get the url I need to get the page source.\n",
        "\n",
        "* Whats the page source: By clicking on the web page there will be a link named as view page source. \n",
        "\n",
        "As follow:\n",
        "\n"
      ]
    },
    {
      "cell_type": "code",
      "metadata": {
        "id": "mbuQPFOelaIt"
      },
      "source": [
        "# get the page\n",
        "wd.get(url)\n",
        "soup = BeautifulSoup(wd.page_source, \"html.parser\")\n",
        "# the above commend means : I need to get the page Source and tell beautifulsoup I need to use \"html parser\"\n",
        "# Parser is a technical term to process the structure.\n",
        "soup"
      ],
      "execution_count": null,
      "outputs": []
    },
    {
      "cell_type": "code",
      "metadata": {
        "id": "psSXrWcZlxuB"
      },
      "source": [
        "#will show the webpage\n",
        "wd"
      ],
      "execution_count": null,
      "outputs": []
    },
    {
      "cell_type": "markdown",
      "metadata": {
        "id": "J8lIC-5sQLjK"
      },
      "source": [
        "# How to copy a table Process and Explore\n",
        "\n",
        "By going over the page and right click on it and then press inspect I could see alot of HTML codes apearing and by moving on those code different sections on the webpage are being highlighted.\n",
        "\n",
        "and I found out which tags are related to tables, body , the header or the data body, row etc...\n",
        "\n",
        "< table > ==> table\n",
        "\n",
        "< tbody > ==> body\n",
        "\n",
        "< tr > ==> row\n",
        "\n",
        "< td > ==> table data\n",
        "\n",
        "\n",
        "\n",
        "The standard processing of tables is exploring through the 'table' ,then 'tbody' then 'tr'  and then the 'td' and extract the information as follow:"
      ]
    },
    {
      "cell_type": "code",
      "metadata": {
        "id": "Tn_UnkyvpRPd"
      },
      "source": [
        "# find the required sections\n",
        "# each represent HTML tag with its attribute and content\n",
        "table = soup.find('table')\n",
        "body = table.find('tbody')\n",
        "rows = body.find_all('tr')\n",
        "# For now process one row and do the hole rows later\n",
        "row = rows[0]\n",
        "\n",
        "# Extract a list of tag object \n",
        "cells = row.find_all('td')\n",
        "name = cells[0].text\n",
        "title = cells[1].text\n",
        "pay = cells[2].text"
      ],
      "execution_count": null,
      "outputs": []
    },
    {
      "cell_type": "markdown",
      "metadata": {
        "id": "LTfygaL7bGbJ"
      },
      "source": [
        "# Here is the functions"
      ]
    },
    {
      "cell_type": "code",
      "metadata": {
        "id": "Ff3EWdfNsv0R"
      },
      "source": [
        "# This function get the 3 row\n",
        "def get_first_3_cells(row):\n",
        "  cells = row.find_all('td')\n",
        "  name = cells[0].text\n",
        "  title = cells[1].text\n",
        "  pay = cells[2].text\n",
        "  # return a dictionary\n",
        "  return {'name': name, 'title': title, 'pay': pay}"
      ],
      "execution_count": null,
      "outputs": []
    },
    {
      "cell_type": "code",
      "metadata": {
        "id": "JMRBMjzdWMx4"
      },
      "source": [
        "# This function explore the webpage and get the table row \n",
        "def get_rows(soup):\n",
        "  # Get the table!\n",
        "  table = soup.find('table')\n",
        "\n",
        "  # get to the row\n",
        "  body = table.find('tbody')\n",
        "  rows = body.find_all('tr')\n",
        "  return rows"
      ],
      "execution_count": null,
      "outputs": []
    },
    {
      "cell_type": "markdown",
      "metadata": {
        "id": "cU7cnZbldXPI"
      },
      "source": [
        "# Extracting the pay element\n",
        "\n",
        "To extact the pay element I need to understand how to Access values in a list consider the followings as my search result in this:\n",
        "\n",
        "http://doc.pyschools.com/html/list.html\n",
        "\n",
        "\n",
        "\n",
        "##Accessing Values in a List\n",
        "\n",
        "Use square bracket to access the value in a list. The first item in a list is accessed with index 0. See examples below:\n",
        "\n",
        "num_list = [4, 12, 'a', 'b', 5.0]\n",
        "\n",
        "first_item = num_list[0]      \n",
        "      # value: 4, first item in the list\n",
        "\n",
        "last_item = num_list[4]  \n",
        "           # value: 5.0, last item in the list\n",
        "\n",
        "last_item = num_list[-1] \n",
        "           # use -1 to access elements starting from the right\n",
        "\n",
        "first_two_items = num_list[0:2] \n",
        " \n",
        " * value: [4, 12]\n",
        "\n",
        " * Note: This is called list slicing\n",
        "\n",
        "items_in_middle = num_list[1:-1]\n",
        "    # value: [12, 'a', 'b']\n",
        "\n",
        "invalid_index = num_list[5]   \n",
        "      # error, list is 0-indexed\n",
        "\n",
        "\n",
        "\n",
        "\n",
        "\n",
        "\n"
      ]
    },
    {
      "cell_type": "code",
      "metadata": {
        "id": "8xAiLIMK-bD7"
      },
      "source": [
        "# This function will extract the pay element and calculate the pay\n",
        "def get_salary(pay):  \n",
        "  last_char = pay[-1]\n",
        "  if last_char == 'M':\n",
        "    pay_as_num = float(pay[0:-1])\n",
        "    sal = pay_as_num * 1000000\n",
        "  elif last_char == 'k':\n",
        "    pay_as_num = float(pay[0:-1])\n",
        "    sal = pay_as_num * 1000\n",
        "  else: # Must be a N/A\n",
        "    sal = 0\n",
        "  return sal"
      ],
      "execution_count": null,
      "outputs": []
    },
    {
      "cell_type": "markdown",
      "metadata": {
        "id": "2nBedqKyh24L"
      },
      "source": [
        "# Income tax calculation"
      ]
    },
    {
      "cell_type": "code",
      "metadata": {
        "id": "fGuh_71fhAn2"
      },
      "source": [
        "def calculate_tax(income):\n",
        "  ''' This function calculates the income tax based on ATO'''\n",
        "  if income <= 18200:\n",
        "    tax_payable = 0\n",
        "  elif 18200 < income <= 45000:\n",
        "    tax_payable = 0.19 * (income - 18200)\n",
        "  elif 45000 < income < 120000:\n",
        "    tax_payable = 5092 + 0.32 * (income - 45000)\n",
        "  elif 120001 < income < 180000:\n",
        "    tax_payable = 29467 + 0.37 * (income - 120000)\n",
        "  elif income > 180000:\n",
        "    tax_payable = 51667 + 0.45 * (income - 180000)\n",
        "\n",
        "\n",
        "  return tax_payable"
      ],
      "execution_count": null,
      "outputs": []
    },
    {
      "cell_type": "markdown",
      "metadata": {
        "id": "AjOc40hmiMZ-"
      },
      "source": [
        "# Re organizing the functions"
      ]
    },
    {
      "cell_type": "code",
      "metadata": {
        "id": "5fcnKMC8iTJf"
      },
      "source": [
        "# Usually run of Google Coolab, so install unique packages\n",
        "!pip install kora -q\n",
        "\n",
        "#load packages\n",
        "from bs4 import BeautifulSoup\n",
        "from kora.selenium import wd\n",
        "import pandas as pd"
      ],
      "execution_count": null,
      "outputs": []
    },
    {
      "cell_type": "code",
      "metadata": {
        "id": "VGFNwf_KipSU"
      },
      "source": [
        "def build_url():\n",
        "  ''' This function will build the URL of the profile page'''\n",
        "  ticker = input(\"Please type in a ticker symbol \")\n",
        "  url_pattern = 'https://au.finance.yahoo.com/quote/{}/profile?p={}'\n",
        "  result = url_pattern.format(ticker, ticker)\n",
        "  return result"
      ],
      "execution_count": null,
      "outputs": []
    },
    {
      "cell_type": "code",
      "metadata": {
        "id": "GQW5CTAOivUS"
      },
      "source": [
        "def get_record(row):\n",
        "  ''' this function will extract the first 3 cells'''\n",
        "  cells = row.find_all('td')\n",
        "  name = cells[0].text\n",
        "  title =  cells[1].text\n",
        "  pay = cells[2].text\n",
        "  return {'name': name, 'title': title, 'pay': pay}"
      ],
      "execution_count": null,
      "outputs": []
    },
    {
      "cell_type": "code",
      "metadata": {
        "id": "Ejd1rPO_iykH"
      },
      "source": [
        "def get_rows(soup):\n",
        "  '''this function explore the webpage and get the table rows'''\n",
        "  # Get the table!\n",
        "  table = soup.find('table')\n",
        "\n",
        "  # get to the row\n",
        "  body = table.find('tbody')\n",
        "  rows = body.find_all('tr')\n",
        "  return rows"
      ],
      "execution_count": null,
      "outputs": []
    },
    {
      "cell_type": "code",
      "metadata": {
        "id": "SNNvfYC_i1IA"
      },
      "source": [
        "def calculate_tax(income):\n",
        "  ''' this function calculate the income tax based on ATO'''\n",
        "  if income <= 18200:\n",
        "    tax_payable = 0\n",
        "  elif 18200 < income <= 45000:\n",
        "    tax_payable = 0.19 * (income - 18200)\n",
        "  elif 45000 < income < 120000:\n",
        "    tax_payable = 5092 + 0.32 * (income - 45000)\n",
        "  elif 120001 < income < 180000:\n",
        "    tax_payable = 29467 + 0.37 * (income - 120000)\n",
        "  elif income > 180000:\n",
        "    tax_payable = 51667 + 0.45 * (income - 180000)\n",
        "\n",
        "\n",
        "  return tax_payable"
      ],
      "execution_count": null,
      "outputs": []
    },
    {
      "cell_type": "code",
      "metadata": {
        "id": "8i9oLtiKi3Ta"
      },
      "source": [
        "def get_salary(pay):  \n",
        "  '''this function extract the pay element and calculate the pay'''\n",
        "  last_char = pay[-1]\n",
        "  if last_char == 'M':\n",
        "    pay_as_num = float(pay[0:-1])\n",
        "    sal = pay_as_num * 1000000\n",
        "  elif last_char == 'k':\n",
        "    pay_as_num = float(pay[0:-1])\n",
        "    sal = pay_as_num * 1000\n",
        "  else: # Must be a N/A\n",
        "    sal = 0\n",
        "  return sal"
      ],
      "execution_count": null,
      "outputs": []
    },
    {
      "cell_type": "code",
      "metadata": {
        "id": "6zQyZ5_di6lL"
      },
      "source": [
        "url = build_url()\n",
        "wd.get(url)\n",
        "soup = BeautifulSoup(wd.page_source,'html.parser')\n",
        "rows = get_rows(soup)\n"
      ],
      "execution_count": null,
      "outputs": []
    },
    {
      "cell_type": "markdown",
      "metadata": {
        "id": "9IzjPd96Dq9i"
      },
      "source": [
        "# Understanding of Python List append()\n",
        "\n",
        "https://www.programiz.com/python-programming/methods/list/append\n",
        "\n",
        "The append() method adds an item to the end of the list.\n",
        "Example\n",
        "\n",
        "currencies = ['Dollar', 'Euro', 'Pound']\n",
        "\n",
        "## append 'Yen' to the list\n",
        "currencies.append('Yen')\n",
        "\n",
        "\n",
        "print(currencies)\n",
        "\n",
        "Output: ['Dollar', 'Euro', 'Pound', 'Yen']\n",
        "\n",
        "##Syntax of List append()\n",
        "\n",
        "The syntax of the append() method is:\n",
        "\n",
        "* list.append(item)\n",
        "\n",
        "append() Parameters\n",
        "\n",
        "The method takes a single argument\n",
        "\n",
        "    item - an item (number, string, list etc.) to be added at the end of the list\n",
        "\n",
        "Return Value from append()\n",
        "\n",
        "The method doesn't return any value (returns None).\n",
        "#Example 1: Adding Element to a List\n",
        "\n",
        "##animals list\n",
        "animals = ['cat', 'dog', 'rabbit']\n",
        "\n",
        "## Add 'guinea pig' to the list\n",
        "\n",
        "animals.append('guinea pig')\n",
        "\n",
        "\n",
        "print('Updated animals list: ', animals)\n",
        "\n",
        "Output\n",
        "\n",
        "Updated animals list:  ['cat', 'dog', 'rabbit', 'guinea pig']\n",
        "\n",
        "#Example 2: Adding List to a List\n",
        "\n",
        "## animals list\n",
        "animals = ['cat', 'dog', 'rabbit']\n",
        "\n",
        "## list of wild animals\n",
        "wild_animals = ['tiger', 'fox']\n",
        "\n",
        "## appending wild_animals list to animals\n",
        "animals.append(wild_animals)\n",
        "\n",
        "\n",
        "print('Updated animals list: ', animals)\n",
        "\n",
        "##Output\n",
        "\n",
        "Updated animals list:  ['cat', 'dog', 'rabbit', ['tiger', 'fox']]\n",
        "\n",
        "## Knowing all the above I created the data frame as follow:"
      ]
    },
    {
      "cell_type": "code",
      "metadata": {
        "id": "v0rOSZadDf4j"
      },
      "source": [
        "# getting all the records\n",
        "records = []\n",
        "for row in rows:\n",
        "  rec = get_record(row)\n",
        "  records.append(rec)\n",
        "\n",
        "# adding the tax colum\n",
        "for rec in records:\n",
        "  sal = get_salary(rec['pay'])\n",
        "  rec['tax'] = calculate_tax(sal)\n",
        "\n",
        "# create a pandas dataframe (a data frame is easy to save as csv)\n",
        "exec_df = pd.DataFrame.from_records(records)\n",
        "exec_df"
      ],
      "execution_count": null,
      "outputs": []
    },
    {
      "cell_type": "markdown",
      "metadata": {
        "id": "ZtVV-6AB9tCt"
      },
      "source": [
        "# Save as CSV\n",
        "I searched and found this way to convert the data frame into a CSV file\n",
        "\n",
        "https://datatofish.com/export-dataframe-to-csv/\n",
        "\n",
        "Once the content are created we save it the same as following pattern:\n",
        "\n",
        "r'C:\\Users\\Ashkan\\Desktop\\export_dataframe.csv'\n",
        "\n",
        "\n",
        "  The r character that you should place before the path name (to take care of any symbols within the path name, such as the backslash symbol). Otherwise, you’ll get the following error: (unicode error) ‘unicodeescape’ codec can’t decode bytes in position 2-3: truncated \\UXXXXXXXX escape\n",
        "\n",
        "\n",
        "  The Export data frame represents the file name to be created. You may type a different file name if you’d like\n",
        "\n",
        "\n",
        "   The CSV part represents the file type, which is ‘csv.’ You must add that portion anytime you want to export your DataFrame to a CSV file. Alternatively, you may use the file type of ‘txt’ if you want to export your DataFrame to a Text file\n",
        "\n",
        "** Note:  the created file can be accessed in the top left hand side of the page in files icon.\n"
      ]
    },
    {
      "cell_type": "code",
      "metadata": {
        "id": "NXZxWOQ3i6qt"
      },
      "source": [
        "data = {'name': ['Mr. Ross Maxwell McEwan CBE B.B.S.','Mr. Gary Andrew Lennon BEC, F.C.A., BEc (Hons)','Mr. Patrick F. Wright','Ms. Sharon J. Cook','Ms. Susan Ferrier','Ms. Angela Mentis B.Bus','Mr. Shaun Dooley', 'Mr. Andrew Irvine',\t'Mr. Lesile D. Matheson','Ms. Sally Mihell'\t,],\n",
        "        'title': ['Group CEO, MD & Director','Group Chief Financial Officer','Group Exec. of Technology & Enterprise Operations' \t,'Group Exec. of Legal & Commercial Services','Group Exec. of People & Culture','Group Chief Digital, Data & Analytics Officer','Chief Risk Officer','Chief Exec. of Bus. Private Banking Division','Group Chief Operating Officer','Head of Investor Relations'],\n",
        "        'pay': ['2.54M', '1.13M', '1.72M', '912.98k', '929.27k', '1.62M', '1.05M', '333.27k', 'N/A', 'N/A'],\n",
        "        'tax': [1113667.0,479167.0,744667.0,381508.0,388838.5,699667.0,443167.0,120638.5, 0.0,0.0 ]\n",
        "        }\n",
        "\n",
        "df = pd.DataFrame(data, columns= ['name', 'title','pay', 'tax'])\n",
        "\n",
        "df.to_csv (r'C:\\Users\\Ashkan\\Desktop\\export_dataframe.csv', index = False, header=True)\n",
        "\n",
        "print (df)"
      ],
      "execution_count": null,
      "outputs": []
    },
    {
      "cell_type": "markdown",
      "metadata": {
        "id": "52UqrH38tzc8"
      },
      "source": [
        "#DataFrame to SQL\n",
        "\n",
        "https://datatofish.com/pandas-dataframe-to-sql/\n",
        "\n",
        "##Step 1: Create a DataFrame\n",
        "\n",
        "##Step 2: Create a Database:\n",
        "\n",
        "To start, I’ll need to import the sqlite3 package:\n",
        "\n",
        "then create the database and named it 'Assignment'\n",
        "\n",
        "finally Create the data table \n",
        "\n",
        "The ‘data’ table will be used to store the information from the DataFrame\n",
        "\n",
        "##Step 3: Get from Pandas DataFrame to SQL\n",
        "\n",
        "* Note: The file can be access in the left side of the page in the Files\n",
        "\n",
        "* Note: I just re orgonized the steps in the final version( I usually put the packages at first,   as follow:"
      ]
    },
    {
      "cell_type": "code",
      "metadata": {
        "id": "p_ZULbJju5WA"
      },
      "source": [
        "#Import the package\n",
        "import sqlite3\n",
        "\n",
        "# Create the database\n",
        "conn = sqlite3.connect('Assignment')\n",
        "c = conn.cursor()\n",
        "\n",
        "# Create data table\n",
        "c.execute('CREATE TABLE IF NOT EXISTS data (name text, title text, pay number, tax number)')\n",
        "conn.commit()\n",
        "\n",
        "# Create a data frame\n",
        "data = {'name': ['Mr. Ross Maxwell McEwan CBE B.B.S.','Mr. Gary Andrew Lennon BEC, F.C.A., BEc (Hons)','Mr. Patrick F. Wright','Ms. Sharon J. Cook','Ms. Susan Ferrier','Ms. Angela Mentis B.Bus','Mr. Shaun Dooley', 'Mr. Andrew Irvine',\t'Mr. Lesile D. Matheson','Ms. Sally Mihell'\t,],\n",
        "        'title': ['Group CEO, MD & Director','Group Chief Financial Officer','Group Exec. of Technology & Enterprise Operations' \t,'Group Exec. of Legal & Commercial Services','Group Exec. of People & Culture','Group Chief Digital, Data & Analytics Officer','Chief Risk Officer','Chief Exec. of Bus. Private Banking Division','Group Chief Operating Officer','Head of Investor Relations'],\n",
        "        'pay': ['2.54M', '1.13M', '1.72M', '912.98k', '929.27k', '1.62M', '1.05M', '333.27k', 'N/A', 'N/A'],\n",
        "        'tax': [1113667.0,479167.0,744667.0,381508.0,388838.5,699667.0,443167.0,120638.5, 0.0,0.0 ]\n",
        "        }\n",
        "\n",
        "#Get from Pandas DataFrame to SQL\n",
        "df = pd.DataFrame(data, columns= ['name', 'title','pay', 'tax'])\n",
        "df.to_sql('data', conn, if_exists='replace', index = False)\n",
        "\n",
        "c.execute('''  \n",
        "\t\tSELECT * FROM data\t\n",
        "          ''')\n",
        "\n",
        "df = pd.DataFrame(c.fetchall(), columns=['name','title', 'pay', 'tax'])    \n",
        "print (df)  "
      ],
      "execution_count": null,
      "outputs": []
    }
  ]
}