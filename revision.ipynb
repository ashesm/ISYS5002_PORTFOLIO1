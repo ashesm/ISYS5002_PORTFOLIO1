{
  "nbformat": 4,
  "nbformat_minor": 0,
  "metadata": {
    "colab": {
      "name": "revision.ipynb",
      "provenance": [],
      "authorship_tag": "ABX9TyPW5EJoIFNsqx5ZOlU4SeTw",
      "include_colab_link": true
    },
    "kernelspec": {
      "name": "python3",
      "display_name": "Python 3"
    },
    "language_info": {
      "name": "python"
    }
  },
  "cells": [
    {
      "cell_type": "markdown",
      "metadata": {
        "id": "view-in-github",
        "colab_type": "text"
      },
      "source": [
        "<a href=\"https://colab.research.google.com/github/ashesm/ISYS5002_PORTFOLIO1/blob/main/revision.ipynb\" target=\"_parent\"><img src=\"https://colab.research.google.com/assets/colab-badge.svg\" alt=\"Open In Colab\"/></a>"
      ]
    },
    {
      "cell_type": "code",
      "metadata": {
        "id": "hne-4b4NRAmd"
      },
      "source": [
        ""
      ],
      "execution_count": null,
      "outputs": []
    },
    {
      "cell_type": "code",
      "metadata": {
        "id": "9VaIfghfRjMN"
      },
      "source": [
        ""
      ],
      "execution_count": null,
      "outputs": []
    },
    {
      "cell_type": "markdown",
      "metadata": {
        "id": "poObvJikRHxA"
      },
      "source": [
        "#Exception\n",
        "*try\n",
        "\n",
        "*except\n",
        "\n",
        "*finally\n",
        "\n",
        "useful\n",
        "\n",
        "*file i/o\n",
        "\n",
        "*web scraping\n",
        "\n",
        "*databases"
      ]
    },
    {
      "cell_type": "code",
      "metadata": {
        "colab": {
          "base_uri": "https://localhost:8080/"
        },
        "id": "HZvzzkXGRkST",
        "outputId": "e5865150-cb59-4500-ec82-91c71e96d1df"
      },
      "source": [
        "try:\n",
        " num1 = int(input(\"Please input a number? \"))\n",
        " num2 = int(input(\"Please input another number\"))\n",
        " print(\"Num1 divided by Num2 is\" , num1/num2)\n",
        "except TypeError as e:\n",
        "  print(e)\n",
        "except ValueError as e:\n",
        "  print(\"Please only type in digits, not letters\")\n",
        "except ZeroDivisionError:\n",
        "  print(\"the second number cannot be zero\") "
      ],
      "execution_count": null,
      "outputs": [
        {
          "output_type": "stream",
          "name": "stdout",
          "text": [
            "Please input a number? 11\n",
            "Please input another number0\n",
            "the second number cannot be zero\n"
          ]
        }
      ]
    },
    {
      "cell_type": "code",
      "metadata": {
        "colab": {
          "base_uri": "https://localhost:8080/"
        },
        "id": "GKST31MvUuGH",
        "outputId": "26a4e888-0c57-4ee3-c73b-a1c9e47e15a8"
      },
      "source": [
        "try:\n",
        " num1 = int(input(\"Please input a number? \"))\n",
        " num2 = int(input(\"Please input another number\"))\n",
        " print(\"Num1 divided by Num2 is\" , num1/num2)\n",
        "except Exception as e: \n",
        " print(e)\n",
        " "
      ],
      "execution_count": null,
      "outputs": [
        {
          "output_type": "stream",
          "name": "stdout",
          "text": [
            "Please input a number? 11\n",
            "Please input another number0\n",
            "division by zero\n"
          ]
        }
      ]
    },
    {
      "cell_type": "code",
      "metadata": {
        "colab": {
          "base_uri": "https://localhost:8080/"
        },
        "id": "xiMfMsZwVEUJ",
        "outputId": "2f093e0b-5079-4855-ee48-f76b4cfa636e"
      },
      "source": [
        "#if we cant find the error reason:\n",
        "#There is an error on the following line, need to do more research to work out\n",
        "#num1 = int(input(\"Please input a number? \"))\n",
        "num1 = 10\n",
        "num2 = int(input(\"Please input another number\"))\n",
        "print(\"Num1 divided by Num2 is\" , num1/num2)\n"
      ],
      "execution_count": null,
      "outputs": [
        {
          "output_type": "stream",
          "name": "stdout",
          "text": [
            "Please input another number2\n",
            "Num1 divided by Num2 is 5.0\n"
          ]
        }
      ]
    },
    {
      "cell_type": "markdown",
      "metadata": {
        "id": "_KJ79781WiWt"
      },
      "source": [
        "#Web Scraping Tables\n",
        "* 0. Install any packages need\n",
        "* 1. Import libraries\n",
        "* 2. Setup the URL\n",
        "* 3. Get the webpage\n",
        "* 4. Extract to HTML \n",
        "\n",
        "Important Libraries\n",
        "* urllib, urllib2,urlib3 (powerful, complex)\n",
        "* request(easier and use urllib underneath)\n",
        "* selenium(slow...)"
      ]
    },
    {
      "cell_type": "code",
      "metadata": {
        "colab": {
          "base_uri": "https://localhost:8080/"
        },
        "id": "j4P1Wix7WoaB",
        "outputId": "e978543b-7718-43dc-cdac-b9eab0cc8db2"
      },
      "source": [
        "# install requiements\n",
        "!pip install kora -q\n",
        "\n",
        "#load packages\n",
        "from bs4 import BeautifulSoup\n",
        "from kora.selenium import wd\n",
        "\n",
        "\n"
      ],
      "execution_count": null,
      "outputs": [
        {
          "output_type": "stream",
          "name": "stdout",
          "text": [
            "\u001b[K     |████████████████████████████████| 57 kB 4.0 MB/s \n",
            "\u001b[K     |████████████████████████████████| 56 kB 3.6 MB/s \n",
            "\u001b[?25h"
          ]
        }
      ]
    },
    {
      "cell_type": "code",
      "metadata": {
        "id": "oZ6Ruz6qZsA9"
      },
      "source": [
        "URL = 'https://www.abs.gov.au/statistics/economy/key-indicators'\n",
        "\n",
        "#get the page\n",
        "wd.get(URL)"
      ],
      "execution_count": null,
      "outputs": []
    },
    {
      "cell_type": "markdown",
      "metadata": {
        "id": "smdBOivQb_Y0"
      },
      "source": [
        "# Basic HTML Structure\n",
        "    <!DOCTYPE html>\n",
        "    <html>\n",
        "    <head>\n",
        "    <title>Page Title</title>\n",
        "    </head>\n",
        "    <body>\n",
        "\n",
        "    <h1>This is a Heading</h1>\n",
        "    <p>This is a paragraph.</p>\n",
        "\n",
        "    </body>\n",
        "    </html> \n",
        "## Basic Table Structure\n",
        "    <table>\n",
        "      <tr>\n",
        "        <th>Company</th>\n",
        "        <th>Contact</th>\n",
        "        <th>Country</th>\n",
        "      </tr>\n",
        "      <tr>\n",
        "        <td>Alfreds Futterkiste</td>\n",
        "        <td>Maria Anders</td>\n",
        "        <td>Germany</td>\n",
        "      </tr>\n",
        "      <tr>\n",
        "        <td>Centro comercial Moctezuma</td>\n",
        "        <td>Francisco Chang</td>\n",
        "        <td>Mexico</td>\n",
        "      </tr>\n",
        "    </table> "
      ]
    },
    {
      "cell_type": "code",
      "metadata": {
        "colab": {
          "base_uri": "https://localhost:8080/"
        },
        "id": "uC-C98s4c48U",
        "outputId": "79c8eb3a-1629-4e11-a904-7e8e00c5592b"
      },
      "source": [
        "soup = BeautifulSoup(wd.page_source,\"html.parser\")\n",
        "\n",
        "tables = soup.find_all('table')\n",
        "len(tables)"
      ],
      "execution_count": null,
      "outputs": [
        {
          "output_type": "execute_result",
          "data": {
            "text/plain": [
              "8"
            ]
          },
          "metadata": {},
          "execution_count": 20
        }
      ]
    },
    {
      "cell_type": "code",
      "metadata": {
        "id": "zULbpsOUaSwd"
      },
      "source": [
        "tbody = tables[0].find('tbody')"
      ],
      "execution_count": null,
      "outputs": []
    },
    {
      "cell_type": "code",
      "metadata": {
        "id": "c1TiirhjehsE"
      },
      "source": [
        "rows = tbody.find_all('tr')\n"
      ],
      "execution_count": null,
      "outputs": []
    },
    {
      "cell_type": "code",
      "metadata": {
        "id": "CAIwAJzoe7jw"
      },
      "source": [
        "columns = rows[0].find_all('td')"
      ],
      "execution_count": null,
      "outputs": []
    },
    {
      "cell_type": "code",
      "metadata": {
        "colab": {
          "base_uri": "https://localhost:8080/",
          "height": 36
        },
        "id": "LXrYsha0fDra",
        "outputId": "7c318827-b682-4162-85d1-61ca2d8c05e7"
      },
      "source": [
        "columns[0].text"
      ],
      "execution_count": null,
      "outputs": [
        {
          "output_type": "execute_result",
          "data": {
            "application/vnd.google.colaboratory.intrinsic+json": {
              "type": "string"
            },
            "text/plain": [
              "'Gross domestic product GDP, Chain volume measures - seasonally adjusted'"
            ]
          },
          "metadata": {},
          "execution_count": 29
        }
      ]
    },
    {
      "cell_type": "code",
      "metadata": {
        "id": "O3DJF8alfRaq"
      },
      "source": [
        "tables = soup.find_all('table')\n",
        "for table in tables:\n",
        "  body = table.find('tbody')\n",
        "  rows = body.find_all(\"tr\")\n",
        "  for row in rows:\n",
        "   data = row.find_all('td')\n",
        "   for txt in data:\n",
        "    print(txt.text)\n",
        "  print()"
      ],
      "execution_count": null,
      "outputs": []
    },
    {
      "cell_type": "code",
      "metadata": {
        "id": "Tejb0ZIshqR6"
      },
      "source": [
        ""
      ],
      "execution_count": null,
      "outputs": []
    },
    {
      "cell_type": "code",
      "metadata": {
        "colab": {
          "base_uri": "https://localhost:8080/"
        },
        "id": "BYo_Arp2gduK",
        "outputId": "203f6586-e31b-4098-9636-af5e1271758d"
      },
      "source": [
        "tables = soup.find_all('table')\n",
        "#for table in tables:\n",
        "body = tables[0].find('tbody')\n",
        "rows = body.find_all(\"tr\")\n",
        "for row in rows:\n",
        "  data = row.find_all('td')\n",
        "  for txt in data:\n",
        "    print(txt.text)\n",
        "  print()"
      ],
      "execution_count": null,
      "outputs": [
        {
          "output_type": "stream",
          "name": "stdout",
          "text": [
            "Gross domestic product GDP, Chain volume measures - seasonally adjusted\n",
            "Jun Qtr 2021\n",
            "$m\n",
            "505,134\n",
            "0.7%\n",
            "9.6%\n",
            "\n",
            "Gross domestic product GDP, Chain volume measures - annual (a)\n",
            "2020-21\n",
            "$m\n",
            "1,975,866\n",
            "1.4%\n",
            "na\n",
            "\n"
          ]
        }
      ]
    },
    {
      "cell_type": "code",
      "metadata": {
        "colab": {
          "base_uri": "https://localhost:8080/"
        },
        "id": "unLEfQAshrbJ",
        "outputId": "48e4d602-a3c6-4599-cdb7-7b4289020fc9"
      },
      "source": [
        "# install requiements\n",
        "!pip install kora -q\n",
        "\n",
        "#load packages\n",
        "from kora.selenium import wd\n",
        "import pandas as pd\n",
        "\n",
        "# setup the URL\n",
        "URL = 'https://www.abs.gov.au/statistics/economy/key-indicators'\n",
        "\n",
        "# Get the page\n",
        "wd.get(URL)\n",
        "\n",
        "tables_as_df = pd.read_html(wd.page_source)\n",
        "len(tables_as_df)"
      ],
      "execution_count": null,
      "outputs": [
        {
          "output_type": "execute_result",
          "data": {
            "text/plain": [
              "8"
            ]
          },
          "metadata": {},
          "execution_count": 40
        }
      ]
    },
    {
      "cell_type": "code",
      "metadata": {
        "colab": {
          "base_uri": "https://localhost:8080/",
          "height": 175
        },
        "id": "GmdmmckSiefM",
        "outputId": "04982408-2a9e-4dee-90de-6e2eda371f4a"
      },
      "source": [
        "tables_as_df[2]"
      ],
      "execution_count": null,
      "outputs": [
        {
          "output_type": "execute_result",
          "data": {
            "text/html": [
              "<div>\n",
              "<style scoped>\n",
              "    .dataframe tbody tr th:only-of-type {\n",
              "        vertical-align: middle;\n",
              "    }\n",
              "\n",
              "    .dataframe tbody tr th {\n",
              "        vertical-align: top;\n",
              "    }\n",
              "\n",
              "    .dataframe thead th {\n",
              "        text-align: right;\n",
              "    }\n",
              "</style>\n",
              "<table border=\"1\" class=\"dataframe\">\n",
              "  <thead>\n",
              "    <tr style=\"text-align: right;\">\n",
              "      <th></th>\n",
              "      <th>Indicator</th>\n",
              "      <th>Period</th>\n",
              "      <th>Unit</th>\n",
              "      <th>Value</th>\n",
              "      <th>Change previous period</th>\n",
              "      <th>Change same period last year</th>\n",
              "    </tr>\n",
              "  </thead>\n",
              "  <tbody>\n",
              "    <tr>\n",
              "      <th>0</th>\n",
              "      <td>Retail turnover at current prices - seasonally...</td>\n",
              "      <td>August 2021</td>\n",
              "      <td>$m</td>\n",
              "      <td>29275.5</td>\n",
              "      <td>-1.7</td>\n",
              "      <td>-0.7</td>\n",
              "    </tr>\n",
              "    <tr>\n",
              "      <th>1</th>\n",
              "      <td>Actual New Capital Expenditure in volume terms...</td>\n",
              "      <td>Jun Qtr 2021</td>\n",
              "      <td>$m</td>\n",
              "      <td>32,675 million</td>\n",
              "      <td>4.4%</td>\n",
              "      <td>11.5%</td>\n",
              "    </tr>\n",
              "    <tr>\n",
              "      <th>2</th>\n",
              "      <td>Inventories held by Private Businesses, in vol...</td>\n",
              "      <td>Jun qtr 2021</td>\n",
              "      <td>$m</td>\n",
              "      <td>168529</td>\n",
              "      <td>0.2%</td>\n",
              "      <td>2.4%</td>\n",
              "    </tr>\n",
              "    <tr>\n",
              "      <th>3</th>\n",
              "      <td>Total new motor vehicle sales</td>\n",
              "      <td>Dec 2017</td>\n",
              "      <td>no.</td>\n",
              "      <td>99756</td>\n",
              "      <td>0.2%</td>\n",
              "      <td>2.8%</td>\n",
              "    </tr>\n",
              "  </tbody>\n",
              "</table>\n",
              "</div>"
            ],
            "text/plain": [
              "                                           Indicator  ... Change same period last year\n",
              "0  Retail turnover at current prices - seasonally...  ...                         -0.7\n",
              "1  Actual New Capital Expenditure in volume terms...  ...                        11.5%\n",
              "2  Inventories held by Private Businesses, in vol...  ...                         2.4%\n",
              "3                      Total new motor vehicle sales  ...                         2.8%\n",
              "\n",
              "[4 rows x 6 columns]"
            ]
          },
          "metadata": {},
          "execution_count": 42
        }
      ]
    },
    {
      "cell_type": "code",
      "metadata": {
        "id": "7zKqakBkivrc"
      },
      "source": [
        ""
      ],
      "execution_count": null,
      "outputs": []
    }
  ]
}